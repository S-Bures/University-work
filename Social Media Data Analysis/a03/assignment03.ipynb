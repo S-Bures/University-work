{
 "cells": [
  {
   "cell_type": "markdown",
   "metadata": {},
   "source": [
    "<div style=\"text-align: center;\" >\n",
    "<h1 style=\"margin-top: 0.2em; margin-bottom: 0.1em;\">Assignment 3</h1>\n",
    "<h4 style=\"margin-top: 0.7em; margin-bottom: 0.3em; font-style:italic\">Commit your solutions to GitHub until June 21, 23:59</h4>\n",
    "</div>\n",
    "<br>"
   ]
  },
  {
   "cell_type": "markdown",
   "metadata": {},
   "source": [
    "## Part 1 \n",
    "## Sentiment Evaluation of Twitter and YouTube Data"
   ]
  },
  {
   "cell_type": "markdown",
   "metadata": {},
   "source": [
    "### Tasks\n",
    "\n",
    "1. Install packages and load evaluation datasets with Google NLP scores\n",
    "2. Run VADER over evaluation texts\n",
    "3. Run BERT over evaluation texts\n",
    "4. Evaluate against sentiment annotations and compare with Google NLP"
   ]
  },
  {
   "cell_type": "markdown",
   "metadata": {},
   "source": [
    "### Install requirements. \n",
    "\n",
    "The following cell contains all the necessary dependencies needed for this task. If you run the cell everything will be installed. \n",
    "\n",
    "* [`vaderSentiment`](https://github.com/cjhutto/vaderSentiment) is a Python package for a Parsimonious Rule-based Model for Sentiment Analysis of Social Media Text.\n",
    "* [`transformers`](https://huggingface.co/) is a Python package for creating and working with transformers. [Here](https://huggingface.co/docs) is the documentation of `transformers`.\n",
    "* [`torch`](https://pytorch.org/) is a Python machine learning framework. We need this here for `transformers` since this package uses internally `torch`. [Here](https://pytorch.org/docs/stable/index.html) is the documentation of `torch`.\n",
    "* [`pandas`](https://pandas.pydata.org/docs/index.html) is a Python package for creating and working with tabular data. [Here](https://pandas.pydata.org/docs/reference/index.html) is the documentation of `pandas`."
   ]
  },
  {
   "cell_type": "code",
   "execution_count": 2,
   "metadata": {
    "scrolled": true
   },
   "outputs": [
    {
     "name": "stdout",
     "output_type": "stream",
     "text": [
      "Defaulting to user installation because normal site-packages is not writeable\n",
      "Requirement already satisfied: vaderSentiment in /home/ubuntu/.local/lib/python3.10/site-packages (3.3.2)\n",
      "Requirement already satisfied: requests in /usr/lib/python3/dist-packages (from vaderSentiment) (2.25.1)\n",
      "Defaulting to user installation because normal site-packages is not writeable\n",
      "Requirement already satisfied: transformers in /home/ubuntu/.local/lib/python3.10/site-packages (4.29.2)\n",
      "Requirement already satisfied: tokenizers!=0.11.3,<0.14,>=0.11.1 in /home/ubuntu/.local/lib/python3.10/site-packages (from transformers) (0.13.3)\n",
      "Requirement already satisfied: numpy>=1.17 in /home/ubuntu/.local/lib/python3.10/site-packages (from transformers) (1.23.5)\n",
      "Requirement already satisfied: packaging>=20.0 in /home/ubuntu/.local/lib/python3.10/site-packages (from transformers) (21.3)\n",
      "Requirement already satisfied: huggingface-hub<1.0,>=0.14.1 in /home/ubuntu/.local/lib/python3.10/site-packages (from transformers) (0.14.1)\n",
      "Requirement already satisfied: requests in /usr/lib/python3/dist-packages (from transformers) (2.25.1)\n",
      "Requirement already satisfied: filelock in /home/ubuntu/.local/lib/python3.10/site-packages (from transformers) (3.12.0)\n",
      "Requirement already satisfied: pyyaml>=5.1 in /usr/lib/python3/dist-packages (from transformers) (5.4.1)\n",
      "Requirement already satisfied: regex!=2019.12.17 in /home/ubuntu/.local/lib/python3.10/site-packages (from transformers) (2022.10.31)\n",
      "Requirement already satisfied: tqdm>=4.27 in /home/ubuntu/.local/lib/python3.10/site-packages (from transformers) (4.64.1)\n",
      "Requirement already satisfied: typing-extensions>=3.7.4.3 in /home/ubuntu/.local/lib/python3.10/site-packages (from huggingface-hub<1.0,>=0.14.1->transformers) (4.6.2)\n",
      "Requirement already satisfied: fsspec in /home/ubuntu/.local/lib/python3.10/site-packages (from huggingface-hub<1.0,>=0.14.1->transformers) (2023.5.0)\n",
      "Requirement already satisfied: pyparsing!=3.0.5,>=2.0.2 in /usr/lib/python3/dist-packages (from packaging>=20.0->transformers) (2.4.7)\n",
      "Defaulting to user installation because normal site-packages is not writeable\n",
      "Requirement already satisfied: torch in /home/ubuntu/.local/lib/python3.10/site-packages (2.0.1)\n",
      "Requirement already satisfied: sympy in /home/ubuntu/.local/lib/python3.10/site-packages (from torch) (1.12)\n",
      "Requirement already satisfied: typing-extensions in /home/ubuntu/.local/lib/python3.10/site-packages (from torch) (4.6.2)\n",
      "Requirement already satisfied: networkx in /home/ubuntu/.local/lib/python3.10/site-packages (from torch) (3.0)\n",
      "Requirement already satisfied: jinja2 in /usr/lib/python3/dist-packages (from torch) (3.0.3)\n",
      "Requirement already satisfied: filelock in /home/ubuntu/.local/lib/python3.10/site-packages (from torch) (3.12.0)\n",
      "Requirement already satisfied: mpmath>=0.19 in /home/ubuntu/.local/lib/python3.10/site-packages (from sympy->torch) (1.3.0)\n",
      "Defaulting to user installation because normal site-packages is not writeable\n",
      "Requirement already satisfied: pandas in /home/ubuntu/.local/lib/python3.10/site-packages (1.5.2)\n",
      "Requirement already satisfied: python-dateutil>=2.8.1 in /home/ubuntu/.local/lib/python3.10/site-packages (from pandas) (2.8.2)\n",
      "Requirement already satisfied: pytz>=2020.1 in /usr/lib/python3/dist-packages (from pandas) (2022.1)\n",
      "Requirement already satisfied: numpy>=1.21.0 in /home/ubuntu/.local/lib/python3.10/site-packages (from pandas) (1.23.5)\n",
      "Requirement already satisfied: six>=1.5 in /usr/lib/python3/dist-packages (from python-dateutil>=2.8.1->pandas) (1.16.0)\n",
      "Defaulting to user installation because normal site-packages is not writeable\n",
      "Requirement already satisfied: emoji==0.6.0 in /home/ubuntu/.local/lib/python3.10/site-packages (0.6.0)\n"
     ]
    }
   ],
   "source": [
    "# ! pip install vaderSentiment\n",
    "# ! pip install transformers\n",
    "# ! pip install torch\n",
    "# ! pip install pandas\n",
    "# ! pip install emoji==0.6.0"
   ]
  },
  {
   "cell_type": "markdown",
   "metadata": {},
   "source": [
    "You may need to restart the Kernel after installing the dependencies!"
   ]
  },
  {
   "cell_type": "markdown",
   "metadata": {},
   "source": [
    "### Import requirements\n",
    "The cell below imports all necessary dependancies. Make sure they are installed (see cell above)."
   ]
  },
  {
   "cell_type": "code",
   "execution_count": 2,
   "metadata": {
    "scrolled": true
   },
   "outputs": [
    {
     "name": "stderr",
     "output_type": "stream",
     "text": [
      "/home/ubuntu/.local/lib/python3.10/site-packages/tqdm/auto.py:22: TqdmWarning: IProgress not found. Please update jupyter and ipywidgets. See https://ipywidgets.readthedocs.io/en/stable/user_install.html\n",
      "  from .autonotebook import tqdm as notebook_tqdm\n"
     ]
    }
   ],
   "source": [
    "import pandas as pd\n",
    "from vaderSentiment.vaderSentiment import SentimentIntensityAnalyzer\n",
    "from transformers import pipeline"
   ]
  },
  {
   "cell_type": "markdown",
   "metadata": {},
   "source": [
    "### Exercise 1: Load evaluation datasets and Google NLP scores\n",
    "\n",
    "#### 1.1 Load datasets\n",
    "First read the Twitter and Youtube Comments CSV files (`Twitter-Sentiment.csv` and `YouTubeComments-Sentiment.csv`) and save them in a pandas Dataframe."
   ]
  },
  {
   "cell_type": "code",
   "execution_count": 3,
   "metadata": {},
   "outputs": [],
   "source": [
    "twitter_df = pd.read_csv(\"Twitter-Sentiment.csv\")\n",
    "youtube_df = pd.read_csv(\"YouTubeComments-Sentiment.csv\")"
   ]
  },
  {
   "cell_type": "markdown",
   "metadata": {},
   "source": [
    "### Exercise 2: Run VADER over evaluation texts *(2 points)*\n",
    "\n",
    "#### 2.1 Run VADER over the first tweet\n",
    "\n",
    "In this task you should use VADER for sentiment analysis. For this we use the `vaderSentiment` package. You first have to instantiate a new `SentimentIntensityAnalyzer` and use the `polarity_scores` method of it for the analysis. Apply this for the first tweet. Is it a good classification?\n",
    "\n",
    "[Here](https://github.com/cjhutto/vaderSentiment) under 'Code Examples' you can find some example code how to use this package."
   ]
  },
  {
   "cell_type": "code",
   "execution_count": 4,
   "metadata": {},
   "outputs": [
    {
     "name": "stdout",
     "output_type": "stream",
     "text": [
      "?RT @justinbiebcr: The bigger the better....if you know what I mean ;){'neg': 0.0, 'neu': 0.853, 'pos': 0.147, 'compound': 0.2263}\n",
      "Actual label: Positive\n"
     ]
    }
   ],
   "source": [
    "analyzer = SentimentIntensityAnalyzer()\n",
    "first_tweet_analysis = analyzer.polarity_scores(twitter_df.text[0])\n",
    "print(twitter_df.text[0] + str(first_tweet_analysis) + '\\nActual label: ' + twitter_df.label[0])\n",
    "\n",
    "# There is a 0.0 negative score, with a mostly neutral and slightly positive score. The given label is positive and the googleScore \n",
    "# was also slightly positive. Plus, me as a human reading this will also say it is mildly positive, so I would say based on this one \n",
    "# tweet the classificiation could be good."
   ]
  },
  {
   "cell_type": "markdown",
   "metadata": {},
   "source": [
    "#### 2.2 Run VADER over each text\n",
    "\n",
    "Now use VADER for all the text data of the Twitter and the Youtube dataframe. Create a new column in the dataframes called `VADER_compound` where you save the `compound` result (look at the output dictonary of the `polarity_scores` method).\n",
    "\n",
    "*Important: Make sure `compound` is a float*"
   ]
  },
  {
   "cell_type": "code",
   "execution_count": 5,
   "metadata": {},
   "outputs": [],
   "source": [
    "twitter_df['VADER_compound'] = [float(analyzer.polarity_scores(text)['compound']) for text in twitter_df.text]\n",
    "youtube_df['VADER_compound'] = [float(analyzer.polarity_scores(text)['compound']) for text in youtube_df.text]"
   ]
  },
  {
   "cell_type": "markdown",
   "metadata": {},
   "source": [
    "#### 2.3 VADER as a classifier\n",
    "\n",
    "To get the three Classes `Positive`, `Negative` and `Neutral` we use the compound score with the following thresholds:\n",
    "\n",
    "* `compound > 0.5`: `\"Positive\"`\n",
    "* `compound < -0.5`: `\"Negative\"`\n",
    "* `else`: `\"Neutral\"`\n",
    "\n",
    "Create a new column called `VADER_class` which contains the three computed classes."
   ]
  },
  {
   "cell_type": "code",
   "execution_count": 6,
   "metadata": {},
   "outputs": [],
   "source": [
    "twitter_df[\"VADER_class\"] = ['Positive' if score > 0.5 else 'Negative' if score < -0.5 else 'Neutral' for score in twitter_df.VADER_compound]\n",
    "youtube_df[\"VADER_class\"] = ['Positive' if score > 0.5 else 'Negative' if score < -0.5 else 'Neutral' for score in youtube_df.VADER_compound]"
   ]
  },
  {
   "cell_type": "markdown",
   "metadata": {},
   "source": [
    "### Exercise 3: Use a BERT based model for sentiment analysis *(2 points)*\n",
    "\n",
    "#### 3.1 BERT\n",
    "BERT (Bidirectional Encoder Representation from Transformers) is a machine learning technique for natural language processing. There are already pretrained models available in the `transformers` package. You can look [here](https://huggingface.co/models?sort=downloads&search=sentiment) and choose a model for the next tasks. (We suggest [this](https://huggingface.co/cardiffnlp/twitter-roberta-base-sentiment-latest) (`\"cardiffnlp/twitter-roberta-base-sentiment-latest\"`) model, but you can use any available, just make sure it is suitable for sentiment analysis).\n",
    "\n",
    "First create a `pipeline` where you set your model by the `model` keyword argument. You can then use this method to pass text which should be classified. [Here](https://huggingface.co/blog/sentiment-analysis-python#2-how-to-use-pre-trained-sentiment-analysis-models-with-python) is a tutorial how to use this.\n",
    "\n",
    "As before save the classes in a new column 'BERT_class'. The call to your pipeline returns a dictionary where there is a key `label` which contains already the `positive`, `negative` or `neutral` class (Be aware that this is based on the model you choose, and might be different from the labels in the dataset. If that's the case you have to rename them to match the target labels).\n",
    "\n",
    "***Hint: The classification of the entire sample can take a couple of minutes. Make sure to save the labeled dataset in a csv file so that you don't need to rerun the classification the next time you run your notebook.***"
   ]
  },
  {
   "cell_type": "code",
   "execution_count": 50,
   "metadata": {},
   "outputs": [
    {
     "name": "stderr",
     "output_type": "stream",
     "text": [
      "Some weights of the model checkpoint at cardiffnlp/twitter-roberta-base-sentiment-latest were not used when initializing RobertaForSequenceClassification: ['roberta.pooler.dense.bias', 'roberta.pooler.dense.weight']\n",
      "- This IS expected if you are initializing RobertaForSequenceClassification from the checkpoint of a model trained on another task or with another architecture (e.g. initializing a BertForSequenceClassification model from a BertForPreTraining model).\n",
      "- This IS NOT expected if you are initializing RobertaForSequenceClassification from the checkpoint of a model that you expect to be exactly identical (initializing a BertForSequenceClassification model from a BertForSequenceClassification model).\n"
     ]
    }
   ],
   "source": [
    "# Hint -> loading roberta as a pipline\n",
    "sentiment_pipeline = pipeline(model=\"cardiffnlp/twitter-roberta-base-sentiment-latest\", tokenizer=\"cardiffnlp/twitter-roberta-base-sentiment-latest\")"
   ]
  },
  {
   "cell_type": "code",
   "execution_count": 7,
   "metadata": {},
   "outputs": [],
   "source": [
    "# Hint -> using a pipline for classification\n",
    "# sentiment_pipeline('Today is a great day!')[0]['label']\n",
    "\n",
    "# saved as a csv so no need to run it again later\n",
    "\n",
    "# twitter_df[\"BERT_class\"] = [sentiment_pipeline(text)[0]['label'] for text in twitter_df.text]\n",
    "# twitter_df.to_csv('full_twitter.csv', index=False)\n",
    "# youtube_df[\"BERT_class\"] = [sentiment_pipeline(text)[0]['label'] for text in youtube_df.text]\n",
    "# youtube_df.to_csv('full_youtube.csv', index=False)\n",
    "\n",
    "twitter_df = pd.read_csv(\"full_twitter.csv\")\n",
    "youtube_df = pd.read_csv(\"full_youtube.csv\")"
   ]
  },
  {
   "cell_type": "markdown",
   "metadata": {},
   "source": [
    "### Exercise 4: Evaluate against sentiment annotations and compare with Google NLP *(4 points)*\n",
    "\n",
    "#### 4.1 Convert GoogleNLP scores to classes\n",
    "\n",
    "As with VADER and BERT, compute classes from the GoogleNLP score, which is given in the column `googleScore`. For this use following thresholds:\n",
    "\n",
    "* `googleScore > 0.3`: `\"Positive\"`\n",
    "* `googleScore < -0.3`: `\"Negative\"`\n",
    "* `else`: `\"Neutral\"`\n",
    "\n",
    "Save the classes in a new column named `GoogleNLP_class`.\n"
   ]
  },
  {
   "cell_type": "code",
   "execution_count": 8,
   "metadata": {},
   "outputs": [],
   "source": [
    "twitter_df[\"GoogleNLP_class\"] = ['Positive' if score > 0.3 else 'Negative' if score < -0.3 else 'Neutral' for score in twitter_df.googleScore]\n",
    "youtube_df[\"GoogleNLP_class\"] = ['Positive' if score > 0.3 else 'Negative' if score < -0.3 else 'Neutral' for score in youtube_df.googleScore]"
   ]
  },
  {
   "cell_type": "markdown",
   "metadata": {},
   "source": [
    "#### 4.2 Evaluate on Twitter\n",
    "\n",
    "First, let's calculate the accuracy for all three classifiers on the Twitter and Youtube data, print the results."
   ]
  },
  {
   "cell_type": "code",
   "execution_count": 22,
   "metadata": {},
   "outputs": [],
   "source": [
    "def classCounter(df:pd.DataFrame, col:str, calcType:str, reverse = False, inverse=False, customWord=None, label='label'):\n",
    "    \"\"\"\n",
    "    Counts the number of times combinations of labels occur in a DataFrame for emotion detection and sentiment analysis\n",
    "    \n",
    "    Arguments:\n",
    "    df: Dataframe to be used\n",
    "    col: col with the data\n",
    "    calcType: Whether the positive or negative, true or false value is wanted, custom is also an option\n",
    "    reverse: The reverse polarity of the stat ie positive becomes negative and negative becomes positive\n",
    "    inverse: The exact oppositite of the stat ie true positive becomes false negative\n",
    "    customWord: The word to match if custom option given in calcType\n",
    "    label: The column with the correct label in the DataFrame\n",
    "    \"\"\"\n",
    "    if calcType == 'fp' or ((calcType == 'tp') & (reverse == True)) or ((calcType == 'tn') & (inverse == True)):\n",
    "        return ((df[col].str.lower() == 'positive') & (df[label].str.lower() == 'negative')).sum()\n",
    "    if calcType == 'fn' or ((calcType == 'tn') & (reverse == True)) or ((calcType == 'tp') & (inverse == True)):\n",
    "        return ((df[col].str.lower() == 'negative') & (df[label].str.lower() == 'positive')).sum()\n",
    "    if calcType == 'tp':\n",
    "        return ((df[col].str.lower() == 'positive') & (df[label].str.lower() == 'positive')).sum()\n",
    "    if calcType == 'tn':\n",
    "        return ((df[col].str.lower() == 'negative') & (df[label].str.lower() == 'negative')).sum()\n",
    "    if calcType == 'custom':\n",
    "        if customWord == None:\n",
    "            return ((((df[col].str.lower() == df[label].str.lower())).sum()))\n",
    "        if reverse:\n",
    "        # to get false positive\n",
    "            return ((df[col].str.lower() == customWord) & (df[label].str.lower() != customWord)).sum()\n",
    "        # to get false negative\n",
    "        if inverse:\n",
    "            return ((df[col].str.lower() != customWord) & (df[label].str.lower() == customWord)).sum()\n",
    "        return ((df[col].str.lower() == customWord) & (df[label].str.lower() == customWord)).sum()\n",
    "    return 'This calculation type is not available, please choose between tp, tn, fp, fn, or custom word'\n",
    "\n",
    "\n",
    "def sentStats(df: pd.DataFrame, col: str, statType: str, calcType = None):\n",
    "    \"\"\"\n",
    "    Calculates relevant statistics in sentiment analysis and emotion detection from data in a DataFrame\n",
    "\n",
    "    Arguments:\n",
    "    df: The DataFrame to use\n",
    "    col: The column to calculate with\n",
    "    statType: The desired statistic\n",
    "    calcType: Whether the positive or negative, true or false value is wanted\n",
    "    \"\"\"\n",
    "    \n",
    "    if statType == 'accuracy':\n",
    "        tp, tn, fp, fn = classCounter(df, col, 'tp'), classCounter(df, col, 'tn'), classCounter(df, col, 'fp'), classCounter(df, col, 'fn')\n",
    "        # this omits neutral texts in the calculation\n",
    "        return (tp + tn) / (tp + tn + fp + fn)\n",
    "    if statType == 'precision':\n",
    "        # counter that finds the amount of times the desired calcType is found\n",
    "        cT = classCounter(df, col, calcType)\n",
    "        # reverse is found meaning the for tp then the tn is calculated etc\n",
    "        return (cT / (cT + classCounter(df, col, calcType, reverse=True)))\n",
    "    if statType == 'recall':\n",
    "        cT = classCounter(df, col, calcType)\n",
    "        # inverse is found meaning the for tp then the fn is calculated etc\n",
    "        return (cT / (cT + classCounter(df, col, calcType, inverse=True)))\n",
    "    if statType == 'F1':\n",
    "        # calls the function itself to find precision and recall\n",
    "        precision, recall = sentStats(df, col, 'precision', calcType), sentStats(df, col, 'recall', calcType)\n",
    "        return (2 * (precision * recall) / (precision + recall))\n",
    "    return 'This statistic type is not available, please choose between accuracy, precision, recall, and F1.'"
   ]
  },
  {
   "cell_type": "code",
   "execution_count": 10,
   "metadata": {},
   "outputs": [
    {
     "name": "stdout",
     "output_type": "stream",
     "text": [
      "The accuracy of GoogleNLP, BERT, and VADER for Twitter data is 94.21%, 94.44%, 89.95%, respectively.\n",
      "The accuracy of GoogleNLP, BERT, and VADER for YouTube data is 97.07%, 96.35%, 91.85%, respectively.\n"
     ]
    }
   ],
   "source": [
    "# I know that I could've made a funciton to fill this up more efficiently but at this point I wanted to just have something that works\n",
    "# Each row is one statistic once for each model in the order GoogleNLP, BERT, and VADER\n",
    "model_stats = {\n",
    "    'Accuracy Twitter': (sentStats(twitter_df, 'GoogleNLP_class', 'accuracy'), sentStats(twitter_df, 'BERT_class', 'accuracy'), sentStats(twitter_df, 'VADER_class', 'accuracy')), \n",
    "    'Accuracy YouTube': (sentStats(youtube_df, 'GoogleNLP_class', 'accuracy'), sentStats(youtube_df, 'BERT_class', 'accuracy'), sentStats(youtube_df, 'VADER_class', 'accuracy')),\n",
    "    'Positive Precision Twitter': (sentStats(twitter_df, 'GoogleNLP_class', 'precision', 'tp'), sentStats(twitter_df, 'BERT_class', 'precision', 'tp'), sentStats(twitter_df, 'VADER_class', 'precision', 'tp')),\n",
    "    'Positive Precision YouTube': (sentStats(youtube_df, 'GoogleNLP_class', 'precision', 'tp'), sentStats(youtube_df, 'BERT_class', 'precision', 'tp'), sentStats(youtube_df, 'VADER_class', 'precision', 'tp')), \n",
    "    'Negative Precision Twitter': (sentStats(twitter_df, 'GoogleNLP_class', 'precision', 'tn'), sentStats(twitter_df, 'BERT_class', 'precision', 'tn'), sentStats(twitter_df, 'VADER_class', 'precision', 'tn')),\n",
    "    'Negative Precision YouTube': (sentStats(youtube_df, 'GoogleNLP_class', 'precision', 'tn'), sentStats(youtube_df, 'BERT_class', 'precision', 'tn'), sentStats(youtube_df, 'VADER_class', 'precision', 'tn')),\n",
    "    'Positive Recall Twitter': (sentStats(twitter_df, 'GoogleNLP_class', 'recall', 'tp'), sentStats(twitter_df, 'BERT_class', 'recall', 'tp'), sentStats(twitter_df, 'VADER_class', 'recall', 'tp')),\n",
    "    'Positive Recall YouTube': (sentStats(youtube_df, 'GoogleNLP_class', 'recall', 'tp'), sentStats(youtube_df, 'BERT_class', 'recall', 'tp'), sentStats(youtube_df, 'VADER_class', 'recall', 'tp')), \n",
    "    'Negative Recall Twitter': (sentStats(twitter_df, 'GoogleNLP_class', 'recall', 'tn'), sentStats(twitter_df, 'BERT_class', 'recall', 'tn'), sentStats(twitter_df, 'VADER_class', 'recall', 'tn')),\n",
    "    'Negative Recall YouTube': (sentStats(youtube_df, 'GoogleNLP_class', 'recall', 'tn'), sentStats(youtube_df, 'BERT_class', 'recall', 'tn'), sentStats(youtube_df, 'VADER_class', 'recall', 'tn')),\n",
    "    'Positive F1 Twitter': (sentStats(twitter_df, 'GoogleNLP_class', 'F1', 'tp'), sentStats(twitter_df, 'BERT_class', 'F1', 'tp'), sentStats(twitter_df, 'VADER_class', 'F1', 'tp')),\n",
    "    'Positive F1 YouTube': (sentStats(youtube_df, 'GoogleNLP_class', 'F1', 'tp'), sentStats(youtube_df, 'BERT_class', 'F1', 'tp'), sentStats(youtube_df, 'VADER_class', 'F1', 'tp')), \n",
    "    'Negative F1 Twitter': (sentStats(twitter_df, 'GoogleNLP_class', 'F1', 'tn'), sentStats(twitter_df, 'BERT_class', 'F1', 'tn'), sentStats(twitter_df, 'VADER_class', 'F1', 'tn')),\n",
    "    'Negative F1 YouTube': (sentStats(youtube_df, 'GoogleNLP_class', 'F1', 'tn'), sentStats(youtube_df, 'BERT_class', 'F1', 'tn'), sentStats(youtube_df, 'VADER_class', 'F1', 'tn'))}\n",
    "\n",
    "\n",
    "print(f\"The accuracy of GoogleNLP, BERT, and VADER for Twitter data is {round(100 * model_stats['Accuracy Twitter'][0], 2)}%, {round(100 * model_stats['Accuracy Twitter'][1], 2)}%, {round(100 * model_stats['Accuracy Twitter'][2], 2)}%, respectively.\")\n",
    "print(f\"The accuracy of GoogleNLP, BERT, and VADER for YouTube data is {round(100 * model_stats['Accuracy YouTube'][0], 2)}%, {round(100 * model_stats['Accuracy YouTube'][1], 2)}%, {round(100 * model_stats['Accuracy YouTube'][2], 2)}%, respectively.\")"
   ]
  },
  {
   "cell_type": "markdown",
   "metadata": {},
   "source": [
    "Next calculate the precision of the `\"Positive\"` class for the Twitter and Youtube data.\n",
    "This is calculated as follows:\n",
    "$\n",
    "\\begin{align}\n",
    "    precision = \\frac{TP}{TP + FP}\n",
    "\\end{align}\n",
    "$\n",
    "*Note: Here the Positive samples are the one with the class `\"Positive\"`*"
   ]
  },
  {
   "cell_type": "code",
   "execution_count": 10,
   "metadata": {},
   "outputs": [
    {
     "name": "stdout",
     "output_type": "stream",
     "text": [
      "The positive precision of GoogleNLP, BERT, and VADER for Twitter data is 94.52%, 94.05%, 89.52%, respectively.\n",
      "The positive precision of GoogleNLP, BERT, and VADER for YouTube data is 98.39%, 98.28%, 92.49%, respectively.\n"
     ]
    }
   ],
   "source": [
    "print(f\"The positive precision of GoogleNLP, BERT, and VADER for Twitter data is {round(100 * model_stats['Positive Precision Twitter'][0], 2)}%, {round(100 * model_stats['Positive Precision Twitter'][1], 2)}%, {round(100 * model_stats['Positive Precision Twitter'][2], 2)}%, respectively.\")\n",
    "print(f\"The positive precision of GoogleNLP, BERT, and VADER for YouTube data is {round(100 * model_stats['Positive Precision YouTube'][0], 2)}%, {round(100 * model_stats['Positive Precision YouTube'][1], 2)}%, {round(100 * model_stats['Positive Precision YouTube'][2], 2)}%, respectively.\")"
   ]
  },
  {
   "cell_type": "markdown",
   "metadata": {},
   "source": [
    "Now calculate the recall score. This is done by:\n",
    "$\n",
    "\\begin{align}\n",
    "    recall = \\frac{TP}{TP + FN}\n",
    "\\end{align}\n",
    "$\n",
    "*Note: Here the Positive samples are the one with the the class `\"Positive\"`*"
   ]
  },
  {
   "cell_type": "code",
   "execution_count": 11,
   "metadata": {},
   "outputs": [
    {
     "name": "stdout",
     "output_type": "stream",
     "text": [
      "The positive recall of GoogleNLP, BERT, and VADER for Twitter data is 97.33%, 97.11%, 97.05%, respectively.\n",
      "The positive recall of GoogleNLP, BERT, and VADER for YouTube data is 97.96%, 96.7%, 97.44%, respectively.\n"
     ]
    }
   ],
   "source": [
    "print(f\"The positive recall of GoogleNLP, BERT, and VADER for Twitter data is {round(100 * model_stats['Positive Recall Twitter'][0], 2)}%, {round(100 * model_stats['Positive Recall Twitter'][1], 2)}%, {round(100 * model_stats['Positive Recall Twitter'][2], 2)}%, respectively.\")\n",
    "print(f\"The positive recall of GoogleNLP, BERT, and VADER for YouTube data is {round(100 * model_stats['Positive Recall YouTube'][0], 2)}%, {round(100 * model_stats['Positive Recall YouTube'][1], 2)}%, {round(100 * model_stats['Positive Recall YouTube'][2], 2)}%, respectively.\")"
   ]
  },
  {
   "cell_type": "markdown",
   "metadata": {},
   "source": [
    "Calculate the Recall and the Precision score now also for the negative class. The Precision is calculated as:\n",
    "$\n",
    "\\begin{align}\n",
    "    precision = \\frac{TP}{TP + FP}\n",
    "\\end{align}\n",
    "$\n",
    "*Note: Here the Positive samples are the one with the the class `\"Negative\"`*\n",
    "\n",
    "And the Recall is calculated as:\n",
    "$\n",
    "\\begin{align}\n",
    "    recall = \\frac{TP}{TP + FN}\n",
    "\\end{align}\n",
    "$\n",
    "*Note: Here the Positive samples are the one with the the class `\"Negative\"`*"
   ]
  },
  {
   "cell_type": "code",
   "execution_count": 12,
   "metadata": {},
   "outputs": [
    {
     "name": "stdout",
     "output_type": "stream",
     "text": [
      "The negative precision of GoogleNLP, BERT, and VADER for Twitter data is 93.43%, 95.12%, 91.33%, respectively.\n",
      "The negative precision of GoogleNLP, BERT, and VADER for YouTube data is 91.85%, 91.4%, 88.94%, respectively.\n",
      "The negative recall of GoogleNLP, BERT, and VADER for Twitter data is 87.07%, 90.17%, 73.26%, respectively.\n",
      "The negative recall of GoogleNLP, BERT, and VADER for YouTube data is 93.45%, 95.4%, 72.28%, respectively.\n"
     ]
    }
   ],
   "source": [
    "print(f\"The negative precision of GoogleNLP, BERT, and VADER for Twitter data is {round(100 * model_stats['Negative Precision Twitter'][0], 2)}%, {round(100 * model_stats['Negative Precision Twitter'][1], 2)}%, {round(100 * model_stats['Negative Precision Twitter'][2], 2)}%, respectively.\")\n",
    "print(f\"The negative precision of GoogleNLP, BERT, and VADER for YouTube data is {round(100 * model_stats['Negative Precision YouTube'][0], 2)}%, {round(100 * model_stats['Negative Precision YouTube'][1], 2)}%, {round(100 * model_stats['Negative Precision YouTube'][2], 2)}%, respectively.\")\n",
    "print(f\"The negative recall of GoogleNLP, BERT, and VADER for Twitter data is {round(100 * model_stats['Negative Recall Twitter'][0], 2)}%, {round(100 * model_stats['Negative Recall Twitter'][1], 2)}%, {round(100 * model_stats['Negative Recall Twitter'][2], 2)}%, respectively.\")\n",
    "print(f\"The negative recall of GoogleNLP, BERT, and VADER for YouTube data is {round(100 * model_stats['Negative Recall YouTube'][0], 2)}%, {round(100 * model_stats['Negative Recall YouTube'][1], 2)}%, {round(100 * model_stats['Negative Recall YouTube'][2], 2)}%, respectively.\")"
   ]
  },
  {
   "cell_type": "markdown",
   "metadata": {},
   "source": [
    "Last, calculate the [F1 score](https://towardsdatascience.com/the-f1-score-bec2bbc38aa6) of the positive and negative class for each classifier and dataset. The F1 score is calculated as:\n",
    "\n",
    "$\n",
    "\\begin{align}\n",
    "    F_1 = 2 * \\frac{precision * recall}{precision + recall}\n",
    "\\end{align}\n",
    "$"
   ]
  },
  {
   "cell_type": "code",
   "execution_count": 14,
   "metadata": {},
   "outputs": [
    {
     "name": "stdout",
     "output_type": "stream",
     "text": [
      "The positive F1 score of GoogleNLP, BERT, and VADER for Twitter data is 0.96, 0.96, 0.93, respectively.\n",
      "The negative F1 score of GoogleNLP, BERT, and VADER for Twitter data is 0.9, 0.93, 0.81, respectively.\n",
      "The positive F1 score of GoogleNLP, BERT, and VADER for YouTube data is 0.98, 0.97, 0.95, respectively.\n",
      "The negative F1 score of GoogleNLP, BERT, and VADER for YouTube data is 0.93, 0.93, 0.8, respectively.\n"
     ]
    }
   ],
   "source": [
    "print(f\"The positive F1 score of GoogleNLP, BERT, and VADER for Twitter data is {round(model_stats['Positive F1 Twitter'][0], 2)}, {round(model_stats['Positive F1 Twitter'][1], 2)}, {round(model_stats['Positive F1 Twitter'][2], 2)}, respectively.\")\n",
    "print(f\"The negative F1 score of GoogleNLP, BERT, and VADER for Twitter data is {round(model_stats['Negative F1 Twitter'][0], 2)}, {round(model_stats['Negative F1 Twitter'][1], 2)}, {round(model_stats['Negative F1 Twitter'][2], 2)}, respectively.\")\n",
    "print(f\"The positive F1 score of GoogleNLP, BERT, and VADER for YouTube data is {round(model_stats['Positive F1 YouTube'][0], 2)}, {round(model_stats['Positive F1 YouTube'][1], 2)}, {round(model_stats['Positive F1 YouTube'][2], 2)}, respectively.\")\n",
    "print(f\"The negative F1 score of GoogleNLP, BERT, and VADER for YouTube data is {round(model_stats['Negative F1 YouTube'][0], 2)}, {round(model_stats['Negative F1 YouTube'][1], 2)}, {round(model_stats['Negative F1 YouTube'][2], 2)}, respectively.\")"
   ]
  },
  {
   "cell_type": "markdown",
   "metadata": {},
   "source": [
    "### Exercise 5: Comparison *(2 points)*\n",
    "* What was the best performing method for Youtube? Did that fit your expectations?\n",
    "* What was the best performing method for Twitter? Did that fit your expectations?\n",
    "* Do you observe any differences between prediction of positive and negative sentiment? What is the role of the imbalance between postive and negative classes in the calculation of accuracy?\n"
   ]
  },
  {
   "cell_type": "code",
   "execution_count": 15,
   "metadata": {},
   "outputs": [
    {
     "data": {
      "text/plain": [
       "Text(0.5, 0.98, 'Sentiment Analysis Comparision between GoogleNLP, BERT and VADER')"
      ]
     },
     "execution_count": 15,
     "metadata": {},
     "output_type": "execute_result"
    },
    {
     "data": {
      "image/png": "[encoded data removed]",
      "text/plain": [
       "<Figure size 1000x600 with 4 Axes>"
      ]
     },
     "metadata": {},
     "output_type": "display_data"
    }
   ],
   "source": [
    "import matplotlib.pyplot as plt\n",
    "import numpy as np\n",
    "x = np.arange(3)\n",
    "width = 0.2\n",
    "fig, axs = plt.subplots(2,2, sharex=True)\n",
    "fig.set_figheight(6)\n",
    "fig.set_figwidth(10)\n",
    "axs[0,0].set_title('Accuracy')\n",
    "axs[0,0].bar(x-0.5*width, model_stats['Accuracy Twitter'], width, color = 'tab:blue')\n",
    "axs[0,0].bar(x+0.5*width, model_stats['Accuracy YouTube'], width, color = 'tab:red')\n",
    "axs[0,0].legend(['Twitter', 'YouTube'], bbox_to_anchor=(-0.1,1))\n",
    "\n",
    "\n",
    "\n",
    "axs[0, 1].set_title('Precision')\n",
    "axs[0,1].bar(x-1.5*width, model_stats['Positive Precision Twitter'], width, color = 'skyblue')\n",
    "axs[0,1].bar(x-0.5*width, model_stats['Positive Precision YouTube'], width, color = 'crimson')\n",
    "axs[0,1].bar(x+0.5*width, model_stats['Negative Precision Twitter'], width, color = 'royalblue')\n",
    "axs[0,1].bar(x+1.5*width, model_stats['Negative Precision YouTube'], width, color = 'maroon')\n",
    "\n",
    "\n",
    "\n",
    "axs[1,0].set_title('Recall')\n",
    "axs[1,0].bar(x-1.5*width, model_stats['Positive Recall Twitter'], width, color = 'skyblue')\n",
    "axs[1,0].bar(x-0.5*width, model_stats['Positive Recall YouTube'], width, color = 'crimson')\n",
    "axs[1,0].bar(x+0.5*width, model_stats['Negative Recall Twitter'], width, color = 'royalblue')\n",
    "axs[1,0].bar(x+1.5*width, model_stats['Negative Recall YouTube'], width, color = 'maroon')\n",
    "axs[1,0].set_xticks(x, ['GoogleNLP', 'BERT', 'VADER'])\n",
    "axs[0,1].legend(['Twitter \\n Positive', 'YouTube \\n Positive', 'Twitter \\n Negative', 'YouTube \\n Negative'], bbox_to_anchor=(-1.3, -0.1))\n",
    "\n",
    "\n",
    "\n",
    "axs[1,1].set_title('F1 Score')\n",
    "axs[1,1].bar(x-1.5*width, model_stats['Positive F1 Twitter'], width, color = 'skyblue')\n",
    "axs[1,1].bar(x-0.5*width, model_stats['Positive F1 YouTube'], width, color = 'crimson')\n",
    "axs[1,1].bar(x+0.5*width, model_stats['Negative F1 Twitter'], width, color = 'royalblue')\n",
    "axs[1,1].bar(x+1.5*width, model_stats['Negative F1 YouTube'], width, color = 'maroon')\n",
    "axs[1,1].set_xticks(x, ['GoogleNLP', 'BERT', 'VADER'])\n",
    "\n",
    "fig.suptitle(\"Sentiment Analysis Comparision between GoogleNLP, BERT and VADER\")\n"
   ]
  },
  {
   "cell_type": "markdown",
   "metadata": {},
   "source": [
    "For YouTube, the BERT and GoogleNLP models have near identical results. The accuracy is high on both, as are recall and precision both positively and negatively. GoogleNLP's positive YouTube F1 score is marginally higher than BERT's however BERT was slightly better at correctly detecting negative sentiment. VADER, while only a little lower in all positive statistics, seems to suffer greatly on the negative sentiment. This could be due to the thresholds we used. Perhaps if the threshold was lowered a little then maybe more texts would be classified as negative rather than neutral. High precision and low recall shows that it may not classify many texts as negative but the ones it does classify are mostly correct. Maybe VADER finds it easier to classify positively and give a more positive score that goes over our threshold, or maybe YouTube and Twitter data isn't negative enough for it to classify it as negative. I don't know what data GoogleNLP is trained on exactly, but Google owns YouTube so it may have some YouTube data in the training data. It's surprising that BERT is able to be level with GoogleNLP given it was trained on Twitter data. VADER is also fairly good even though it hasn't been trained on such data either, except for the negative sentiment as explained earlier. \n",
    "\n",
    "For Twitter, again GoogleNLP and BERT are very similar. GoogleNLP is slightly better again at positive sentiment while BERT is marginally better than GoogleNLP at correctly identifying negative tweets, seen mostly in the negativs recalls and the F1 scores. Again, VADER is only slightly worse than both at the postive tweet detection and classification but the negative tweets, similarly to Twitter, are not being detected when they should be, instead classfied as neutral, which is seen in the very low negative recall. It's not a surprise that BERT is doing well on this data, as it is a Twitter-trained sentiment analyser. GoogleNLP does well to keep up. It probably isn't trained on Twitter but is doing about as well. \n",
    "\n",
    "There is a disparity between the positive and negative sentiment classification. BERT is the most balanced, as in there isn't as much of a differnce between the precision, recall, and therefore F1 of both Twitter and YouTube data. The largest differences for BERT are the precision of YouTube data and the recall of Twitter data. It means BERT is not correctly classifying negative YouTube data as much as positive data and the Twitter data that is classified as negative is correct but it's not classifying all the negative data there is. VADER has by far the largest difference between negative and positive classification. Positive classification is about on par with the other two models but it suffers in the negative classification, specifically in the recall. This means that whatever is being classified as negative is generally actually negative, but it is missing a lot of negative tweets and comments for Twitter and YouTube respectively. "
   ]
  },
  {
   "cell_type": "markdown",
   "metadata": {},
   "source": [
    "## Part 2 - Emotion Detection"
   ]
  },
  {
   "cell_type": "markdown",
   "metadata": {},
   "source": [
    "### Exercise 6 *(4 points)*"
   ]
  },
  {
   "cell_type": "markdown",
   "metadata": {},
   "source": [
    "In the following exercise you will use the emotion classification model [LEIA](https://huggingface.co/LEIA/LEIA-base) to classify the emotion of the sentences in the [enISEAR dataset](https://www.romanklinger.de/data-sets/). You can read more about the `LEIA-base` model in the [documentation](https://huggingface.co/LEIA/LEIA-base) and learn about the implementation details from this [paper](https://arxiv.org/abs/2304.10973)."
   ]
  },
  {
   "cell_type": "markdown",
   "metadata": {},
   "source": [
    "#### 6.1 LEIA introduction\n",
    "* Load the `LEIA-base` model and tokenize either as a [pipeline](https://huggingface.co/docs/transformers/main_classes/pipelines), or you can load the model and the tokenizer [directly](https://huggingface.co/docs/transformers/autoclass_tutorial) and implement the classification steps by yourself. LEIA only accepts sentences with up to 128 tokens. Make sure that your tokenizer [truncates](https://huggingface.co/docs/transformers/pad_truncation) longer sentences to this lenght to avoid errors.\n",
    "* What are the possible labels the model can predict?\n",
    "* Input the sentence `Today is a great day.` to the model, and predict the emotion of the sentence."
   ]
  },
  {
   "cell_type": "code",
   "execution_count": 11,
   "metadata": {},
   "outputs": [
    {
     "data": {
      "text/plain": [
       "[{'label': 'Happiness', 'score': 0.8010136485099792}]"
      ]
     },
     "execution_count": 11,
     "metadata": {},
     "output_type": "execute_result"
    }
   ],
   "source": [
    "analyzer_LEIA= pipeline(\"sentiment-analysis\", model = 'LEIA/LEIA-base', tokenizer=\"LEIA/LEIA-base\", truncation = True, max_length = 128)\n",
    "analyzer_LEIA(\"Today is a good day.\")\n",
    "# The predicted emotion is happiness"
   ]
  },
  {
   "cell_type": "markdown",
   "metadata": {},
   "source": [
    "#### 6.2 enISEAR dataset\n",
    "* Load the enISEAR dataset.\n",
    "* What are the possible labels in the dataset? (the `Prior_Emotion` column stores the actual label)\n",
    "* The last 7 columns store the number of annotators who chose the given emotion (e.g. if you have the value 3 in the column 'Anger', this means that 3 annotators believed that the sentence in the row expresses Anger). Create a new column `Annotator_Majority_Label`, which stores the emotion with the highest annotator score (i.e. the emotion the highest number of annotators chose for the given sentence).\n",
    "* What percent of the sentences were correctly classified by the (majority vote of the) annotators?"
   ]
  },
  {
   "cell_type": "code",
   "execution_count": 12,
   "metadata": {},
   "outputs": [
    {
     "name": "stdout",
     "output_type": "stream",
     "text": [
      "['Fear' 'Shame' 'Guilt' 'Disgust' 'Sadness' 'Anger' 'Joy']\n",
      "The percentage of correctly classified sentences by humans is 79.62%\n"
     ]
    }
   ],
   "source": [
    "eniSEAR_df = pd.read_csv(\"enISEAR.tsv\", sep = '\\t')\n",
    "print(eniSEAR_df['Prior_Emotion'].unique())\n",
    "# The possible dataset labels are fear, shame, guilt, disgust, sadness, anger, and joy\n",
    "eniSEAR_df['Annotator_Majority_Label'] = eniSEAR_df[['Anger', 'Disgust', 'Fear', 'Guilt', 'Joy', 'Sadness', 'Shame']].idxmax(axis=1)\n",
    "print(f'The percentage of correctly classified sentences by humans is {round((eniSEAR_df.Prior_Emotion == eniSEAR_df.Annotator_Majority_Label).sum() / len(eniSEAR_df) * 100, 2)}%')"
   ]
  },
  {
   "cell_type": "markdown",
   "metadata": {},
   "source": [
    "#### 6.3 Classification\n",
    "* Drop the rows from the enISEAR dataset, where the `Prior_Emotion` is not one of `Fear`, `Sadness`, `Anger` or `Joy`\n",
    "* Use `Leia` to classify the emotion of each remaining sentence in the dataset, and add a column `Leia_Label` to store the predicted classes\n",
    "* Now remove `I felt ... ` from the beginning of each sentence, and rerun the classfication. Store your results in a column named `Leia_Label_Clean`\n",
    "* Where the model predicted `Happiness` or `Affection`, change the prediction to `Joy` to match the dataset's labels (for both columns -> `Leia_Label` and `Leia_Label_Clean`)"
   ]
  },
  {
   "cell_type": "code",
   "execution_count": 13,
   "metadata": {},
   "outputs": [
    {
     "data": {
      "text/html": [
       "<div>\n",
       "<style scoped>\n",
       "    .dataframe tbody tr th:only-of-type {\n",
       "        vertical-align: middle;\n",
       "    }\n",
       "\n",
       "    .dataframe tbody tr th {\n",
       "        vertical-align: top;\n",
       "    }\n",
       "\n",
       "    .dataframe thead th {\n",
       "        text-align: right;\n",
       "    }\n",
       "</style>\n",
       "<table border=\"1\" class=\"dataframe\">\n",
       "  <thead>\n",
       "    <tr style=\"text-align: right;\">\n",
       "      <th></th>\n",
       "      <th>Sentence_id</th>\n",
       "      <th>Prior_Emotion</th>\n",
       "      <th>Sentence</th>\n",
       "      <th>Temporal_Distance</th>\n",
       "      <th>Intensity</th>\n",
       "      <th>Duration</th>\n",
       "      <th>Gender</th>\n",
       "      <th>City</th>\n",
       "      <th>Country</th>\n",
       "      <th>Worker_id</th>\n",
       "      <th>...</th>\n",
       "      <th>Anger</th>\n",
       "      <th>Disgust</th>\n",
       "      <th>Fear</th>\n",
       "      <th>Guilt</th>\n",
       "      <th>Joy</th>\n",
       "      <th>Sadness</th>\n",
       "      <th>Shame</th>\n",
       "      <th>Annotator_Majority_Label</th>\n",
       "      <th>Leia_Label</th>\n",
       "      <th>Leia_Label_Clean</th>\n",
       "    </tr>\n",
       "  </thead>\n",
       "  <tbody>\n",
       "    <tr>\n",
       "      <th>0</th>\n",
       "      <td>271</td>\n",
       "      <td>Fear</td>\n",
       "      <td>I felt ... when my 2 year old broke her leg, a...</td>\n",
       "      <td>Y</td>\n",
       "      <td>Vi</td>\n",
       "      <td>Dom</td>\n",
       "      <td>Ml</td>\n",
       "      <td>Bristol</td>\n",
       "      <td>GBR</td>\n",
       "      <td>87</td>\n",
       "      <td>...</td>\n",
       "      <td>0</td>\n",
       "      <td>0</td>\n",
       "      <td>0</td>\n",
       "      <td>1</td>\n",
       "      <td>0</td>\n",
       "      <td>3</td>\n",
       "      <td>1</td>\n",
       "      <td>Sadness</td>\n",
       "      <td>Fear</td>\n",
       "      <td>Anger</td>\n",
       "    </tr>\n",
       "    <tr>\n",
       "      <th>1</th>\n",
       "      <td>509</td>\n",
       "      <td>Sadness</td>\n",
       "      <td>I felt ... when my Gran passed away.</td>\n",
       "      <td>Y</td>\n",
       "      <td>Vi</td>\n",
       "      <td>Dom</td>\n",
       "      <td>Fl</td>\n",
       "      <td>Stoke-on-trent</td>\n",
       "      <td>GBR</td>\n",
       "      <td>92</td>\n",
       "      <td>...</td>\n",
       "      <td>0</td>\n",
       "      <td>0</td>\n",
       "      <td>0</td>\n",
       "      <td>0</td>\n",
       "      <td>0</td>\n",
       "      <td>5</td>\n",
       "      <td>0</td>\n",
       "      <td>Sadness</td>\n",
       "      <td>Sadness</td>\n",
       "      <td>Sadness</td>\n",
       "    </tr>\n",
       "    <tr>\n",
       "      <th>2</th>\n",
       "      <td>218</td>\n",
       "      <td>Fear</td>\n",
       "      <td>I felt ... when an aeroplane I was on hit a he...</td>\n",
       "      <td>Y</td>\n",
       "      <td>Vi</td>\n",
       "      <td>Sh</td>\n",
       "      <td>Ml</td>\n",
       "      <td>Prescot</td>\n",
       "      <td>GBR</td>\n",
       "      <td>63</td>\n",
       "      <td>...</td>\n",
       "      <td>0</td>\n",
       "      <td>0</td>\n",
       "      <td>5</td>\n",
       "      <td>0</td>\n",
       "      <td>0</td>\n",
       "      <td>0</td>\n",
       "      <td>0</td>\n",
       "      <td>Fear</td>\n",
       "      <td>Fear</td>\n",
       "      <td>Fear</td>\n",
       "    </tr>\n",
       "    <tr>\n",
       "      <th>3</th>\n",
       "      <td>553</td>\n",
       "      <td>Sadness</td>\n",
       "      <td>I felt ... when my lover Pierre-Guillaume left...</td>\n",
       "      <td>M</td>\n",
       "      <td>Vi</td>\n",
       "      <td>Dom</td>\n",
       "      <td>Fl</td>\n",
       "      <td>NaN</td>\n",
       "      <td>GBR</td>\n",
       "      <td>105</td>\n",
       "      <td>...</td>\n",
       "      <td>4</td>\n",
       "      <td>0</td>\n",
       "      <td>0</td>\n",
       "      <td>0</td>\n",
       "      <td>0</td>\n",
       "      <td>1</td>\n",
       "      <td>0</td>\n",
       "      <td>Anger</td>\n",
       "      <td>Sadness</td>\n",
       "      <td>Sadness</td>\n",
       "    </tr>\n",
       "    <tr>\n",
       "      <th>4</th>\n",
       "      <td>58</td>\n",
       "      <td>Anger</td>\n",
       "      <td>I felt ... when someone hit my wife's car and ...</td>\n",
       "      <td>W</td>\n",
       "      <td>Mi</td>\n",
       "      <td>H</td>\n",
       "      <td>Ml</td>\n",
       "      <td>Bristol</td>\n",
       "      <td>GBR</td>\n",
       "      <td>87</td>\n",
       "      <td>...</td>\n",
       "      <td>5</td>\n",
       "      <td>0</td>\n",
       "      <td>0</td>\n",
       "      <td>0</td>\n",
       "      <td>0</td>\n",
       "      <td>0</td>\n",
       "      <td>0</td>\n",
       "      <td>Anger</td>\n",
       "      <td>Sadness</td>\n",
       "      <td>Anger</td>\n",
       "    </tr>\n",
       "    <tr>\n",
       "      <th>...</th>\n",
       "      <td>...</td>\n",
       "      <td>...</td>\n",
       "      <td>...</td>\n",
       "      <td>...</td>\n",
       "      <td>...</td>\n",
       "      <td>...</td>\n",
       "      <td>...</td>\n",
       "      <td>...</td>\n",
       "      <td>...</td>\n",
       "      <td>...</td>\n",
       "      <td>...</td>\n",
       "      <td>...</td>\n",
       "      <td>...</td>\n",
       "      <td>...</td>\n",
       "      <td>...</td>\n",
       "      <td>...</td>\n",
       "      <td>...</td>\n",
       "      <td>...</td>\n",
       "      <td>...</td>\n",
       "      <td>...</td>\n",
       "      <td>...</td>\n",
       "    </tr>\n",
       "    <tr>\n",
       "      <th>567</th>\n",
       "      <td>536</td>\n",
       "      <td>Sadness</td>\n",
       "      <td>I felt ... when an impoverished family we know...</td>\n",
       "      <td>D</td>\n",
       "      <td>I</td>\n",
       "      <td>Dom</td>\n",
       "      <td>Fl</td>\n",
       "      <td>Ely</td>\n",
       "      <td>GBR</td>\n",
       "      <td>62</td>\n",
       "      <td>...</td>\n",
       "      <td>1</td>\n",
       "      <td>0</td>\n",
       "      <td>0</td>\n",
       "      <td>1</td>\n",
       "      <td>0</td>\n",
       "      <td>3</td>\n",
       "      <td>0</td>\n",
       "      <td>Sadness</td>\n",
       "      <td>Sadness</td>\n",
       "      <td>Anger</td>\n",
       "    </tr>\n",
       "    <tr>\n",
       "      <th>568</th>\n",
       "      <td>546</td>\n",
       "      <td>Sadness</td>\n",
       "      <td>I felt ... when a horse was killed in the Gran...</td>\n",
       "      <td>Y</td>\n",
       "      <td>Mi</td>\n",
       "      <td>Fm</td>\n",
       "      <td>Ml</td>\n",
       "      <td>Chelmsford</td>\n",
       "      <td>GBR</td>\n",
       "      <td>91</td>\n",
       "      <td>...</td>\n",
       "      <td>0</td>\n",
       "      <td>1</td>\n",
       "      <td>0</td>\n",
       "      <td>0</td>\n",
       "      <td>0</td>\n",
       "      <td>4</td>\n",
       "      <td>0</td>\n",
       "      <td>Sadness</td>\n",
       "      <td>Sadness</td>\n",
       "      <td>Sadness</td>\n",
       "    </tr>\n",
       "    <tr>\n",
       "      <th>569</th>\n",
       "      <td>548</td>\n",
       "      <td>Sadness</td>\n",
       "      <td>I felt ... when my college course finished as ...</td>\n",
       "      <td>M</td>\n",
       "      <td>Mi</td>\n",
       "      <td>Dom</td>\n",
       "      <td>Ml</td>\n",
       "      <td>Prescot</td>\n",
       "      <td>GBR</td>\n",
       "      <td>63</td>\n",
       "      <td>...</td>\n",
       "      <td>0</td>\n",
       "      <td>0</td>\n",
       "      <td>0</td>\n",
       "      <td>0</td>\n",
       "      <td>0</td>\n",
       "      <td>5</td>\n",
       "      <td>0</td>\n",
       "      <td>Sadness</td>\n",
       "      <td>Sadness</td>\n",
       "      <td>Sadness</td>\n",
       "    </tr>\n",
       "    <tr>\n",
       "      <th>570</th>\n",
       "      <td>555</td>\n",
       "      <td>Sadness</td>\n",
       "      <td>I felt ... when I saw an old man waiting alone...</td>\n",
       "      <td>M</td>\n",
       "      <td>Mi</td>\n",
       "      <td>H</td>\n",
       "      <td>Ml</td>\n",
       "      <td>NaN</td>\n",
       "      <td>GBR</td>\n",
       "      <td>68</td>\n",
       "      <td>...</td>\n",
       "      <td>0</td>\n",
       "      <td>0</td>\n",
       "      <td>0</td>\n",
       "      <td>0</td>\n",
       "      <td>0</td>\n",
       "      <td>5</td>\n",
       "      <td>0</td>\n",
       "      <td>Sadness</td>\n",
       "      <td>Joy</td>\n",
       "      <td>Joy</td>\n",
       "    </tr>\n",
       "    <tr>\n",
       "      <th>571</th>\n",
       "      <td>556</td>\n",
       "      <td>Sadness</td>\n",
       "      <td>I felt ... when I saw a recent wildlife docume...</td>\n",
       "      <td>W</td>\n",
       "      <td>I</td>\n",
       "      <td>Sh</td>\n",
       "      <td>Ml</td>\n",
       "      <td>Prescot</td>\n",
       "      <td>GBR</td>\n",
       "      <td>63</td>\n",
       "      <td>...</td>\n",
       "      <td>0</td>\n",
       "      <td>0</td>\n",
       "      <td>0</td>\n",
       "      <td>0</td>\n",
       "      <td>0</td>\n",
       "      <td>5</td>\n",
       "      <td>0</td>\n",
       "      <td>Sadness</td>\n",
       "      <td>Sadness</td>\n",
       "      <td>Sadness</td>\n",
       "    </tr>\n",
       "  </tbody>\n",
       "</table>\n",
       "<p>572 rows × 21 columns</p>\n",
       "</div>"
      ],
      "text/plain": [
       "     Sentence_id Prior_Emotion  \\\n",
       "0            271          Fear   \n",
       "1            509       Sadness   \n",
       "2            218          Fear   \n",
       "3            553       Sadness   \n",
       "4             58         Anger   \n",
       "..           ...           ...   \n",
       "567          536       Sadness   \n",
       "568          546       Sadness   \n",
       "569          548       Sadness   \n",
       "570          555       Sadness   \n",
       "571          556       Sadness   \n",
       "\n",
       "                                              Sentence Temporal_Distance  \\\n",
       "0    I felt ... when my 2 year old broke her leg, a...                 Y   \n",
       "1                 I felt ... when my Gran passed away.                 Y   \n",
       "2    I felt ... when an aeroplane I was on hit a he...                 Y   \n",
       "3    I felt ... when my lover Pierre-Guillaume left...                 M   \n",
       "4    I felt ... when someone hit my wife's car and ...                 W   \n",
       "..                                                 ...               ...   \n",
       "567  I felt ... when an impoverished family we know...                 D   \n",
       "568  I felt ... when a horse was killed in the Gran...                 Y   \n",
       "569  I felt ... when my college course finished as ...                 M   \n",
       "570  I felt ... when I saw an old man waiting alone...                 M   \n",
       "571  I felt ... when I saw a recent wildlife docume...                 W   \n",
       "\n",
       "    Intensity Duration Gender            City Country  Worker_id  ... Anger  \\\n",
       "0          Vi      Dom     Ml         Bristol     GBR         87  ...     0   \n",
       "1          Vi      Dom     Fl  Stoke-on-trent     GBR         92  ...     0   \n",
       "2          Vi       Sh     Ml         Prescot     GBR         63  ...     0   \n",
       "3          Vi      Dom     Fl             NaN     GBR        105  ...     4   \n",
       "4          Mi        H     Ml         Bristol     GBR         87  ...     5   \n",
       "..        ...      ...    ...             ...     ...        ...  ...   ...   \n",
       "567         I      Dom     Fl             Ely     GBR         62  ...     1   \n",
       "568        Mi       Fm     Ml      Chelmsford     GBR         91  ...     0   \n",
       "569        Mi      Dom     Ml         Prescot     GBR         63  ...     0   \n",
       "570        Mi        H     Ml             NaN     GBR         68  ...     0   \n",
       "571         I       Sh     Ml         Prescot     GBR         63  ...     0   \n",
       "\n",
       "     Disgust  Fear  Guilt  Joy  Sadness  Shame  Annotator_Majority_Label  \\\n",
       "0          0     0      1    0        3      1                   Sadness   \n",
       "1          0     0      0    0        5      0                   Sadness   \n",
       "2          0     5      0    0        0      0                      Fear   \n",
       "3          0     0      0    0        1      0                     Anger   \n",
       "4          0     0      0    0        0      0                     Anger   \n",
       "..       ...   ...    ...  ...      ...    ...                       ...   \n",
       "567        0     0      1    0        3      0                   Sadness   \n",
       "568        1     0      0    0        4      0                   Sadness   \n",
       "569        0     0      0    0        5      0                   Sadness   \n",
       "570        0     0      0    0        5      0                   Sadness   \n",
       "571        0     0      0    0        5      0                   Sadness   \n",
       "\n",
       "    Leia_Label Leia_Label_Clean  \n",
       "0         Fear            Anger  \n",
       "1      Sadness          Sadness  \n",
       "2         Fear             Fear  \n",
       "3      Sadness          Sadness  \n",
       "4      Sadness            Anger  \n",
       "..         ...              ...  \n",
       "567    Sadness            Anger  \n",
       "568    Sadness          Sadness  \n",
       "569    Sadness          Sadness  \n",
       "570        Joy              Joy  \n",
       "571    Sadness          Sadness  \n",
       "\n",
       "[572 rows x 21 columns]"
      ]
     },
     "execution_count": 13,
     "metadata": {},
     "output_type": "execute_result"
    }
   ],
   "source": [
    "# saved as csv to only run sentiment analysis once\n",
    "# eniSEAR_df = eniSEAR_df.loc[eniSEAR_df['Prior_Emotion'].isin(['Fear','Sadness', 'Anger', 'Joy'])].reset_index(drop = True)\n",
    "# eniSEAR_df['Leia_Label'] = [analyzer_LEIA(sentence)[0]['label'] for sentence in eniSEAR_df.Sentence]\n",
    "# eniSEAR_df['Leia_Label_Clean'] = [analyzer_LEIA(sentence)[0]['label'] for sentence in eniSEAR_df.Sentence.str[11:]]\n",
    "# eniSEAR_df.to_csv('leia_enisear.csv', index=False)\n",
    "\n",
    "\n",
    "eniSEAR_df = pd.read_csv('leia_enisear.csv')\n",
    "eniSEAR_df['Leia_Label'] = eniSEAR_df[\"Leia_Label\"].replace(['Happiness', 'Affection'], 'Joy')\n",
    "eniSEAR_df['Leia_Label_Clean'] = eniSEAR_df[\"Leia_Label_Clean\"].replace(['Happiness', 'Affection'], 'Joy')\n",
    "eniSEAR_df"
   ]
  },
  {
   "cell_type": "markdown",
   "metadata": {},
   "source": [
    "#### 6.4 Analysis\n",
    "* Compare the performance of the two approaches, with each other, as well as with the performance of the human majority using the metrics introduced in part 1 (accuracy, precision, recall, f1 score) or other metrics you find interesting. Create informative visualizations to aid the comparison.\n",
    "* Discuss your results. \n",
    "* Are the models accurately predicting human emotions?\n",
    "* Which approach seems to work better? Why?\n",
    "* What kind of other/additional preprocessing could we perform to improve the model's predictions?"
   ]
  },
  {
   "cell_type": "code",
   "execution_count": null,
   "metadata": {},
   "outputs": [],
   "source": [
    "# emotion_detection_models = ('Human', 'LEIA', 'LEIA clean')\n",
    "# emotion_detection_stats = {\n",
    "#     'Accuracy': (),\n",
    "#     'Joy Precision': (),\n",
    "#     'Anger Precision': (),\n",
    "#     'Sadness Precision': (),\n",
    "#     'Fear Precision': (),\n",
    "#     'Joy Recall': (),\n",
    "#     'Anger Recall': (),\n",
    "#     'Sadness Recall': (),\n",
    "#     'Fear Recall': (),\n",
    "#     'Joy F1': (),\n",
    "#     'Anger F1': (),\n",
    "#     'Sadness F1': (),\n",
    "#     'Fear F1': (),\n",
    "# }\n",
    "\n",
    "\n",
    "# I'm sorry that I did not complete this part of the exercise. I thought that this would be the easy part of the task, but seeing as I left it\n",
    "# a bit late and my brain is a bit melted I was unable to complete this. If I could, then I would make a similar visualization to above, with \n",
    "# 4 subplots, each with the three models and with the 4 emotions. Next time I will make sure to respect the analysis part of the task more \n",
    "# and spent the time it deserves to have."
   ]
  },
  {
   "cell_type": "markdown",
   "metadata": {},
   "source": [
    "Preprocessing could include making sure slang words are either excluded or taken into account. I don't actually know if LEIA does take them into account, probably it does, because I know the people behind it are very smart. While not preprocessing, it may be important to define the emotion words we have. It's very difficult, but different people may interpret these words slightly differently or have a different idea of what they should mean. It would be interesting to see if the results are different if an entire sentence is included, as some of the sentences cut off. Glancing through them, the emotion changes sometimes as the text goes along, so maybe that also influences the final emotion and why the emotion changes when the first first words are cut out."
   ]
  },
  {
   "cell_type": "markdown",
   "metadata": {},
   "source": [
    "### Exercise 7 *(6 points)*"
   ]
  },
  {
   "cell_type": "markdown",
   "metadata": {},
   "source": [
    "#### 7.1 Data annotation\n",
    "* In the following exercise you will need to test emotion detection methods on data from [Vent](https://www.vent.co/), a website where users talk about their feelings. \n",
    "* On GitHub, in your `a03` folder you can find 3 files. First open `sample_for_labeling.csv`, and label each row according the emotion the sentence expresses. The possible classes are: 0 (Sadness), 1 (Affection), 2 (Fear), 3 (Happiness), 4 (Anger). ***Important: Make sure to upload the labeled data with your submission.***\n",
    "* After you finished labeling the data load it as a pandas dataframe. Also load `sample_with_labels.csv` as a dataframe, which contains the actual labels of the data.\n",
    "* Merge the two dataframes, and rename the column containing your labels as `label_human`.\n",
    "* Rename the class ids (0, 1, 2, ...) stored in the `label`, and `label_human` columns to the class names (Sadness, Affection, ...)."
   ]
  },
  {
   "cell_type": "code",
   "execution_count": 29,
   "metadata": {},
   "outputs": [],
   "source": [
    "vent_df = pd.read_csv('sample_for_labeling.csv')\n",
    "vent_df['label_human'] = [0, 2, 4, 3, 0, 0, 3, 0, 0, 2, 0, 1, 2, 1, 1, 0, 4, 1, 0, 3, 4, 4, 4, 3, 4, 0, 3, 0, 2, 0]\n",
    "vent_df_labels = pd.read_csv('sample_with_labels.csv').merge(vent_df[['label_human', 'text']], on = 'text')\n",
    "vent_df_labels['label_human'] = ['Sadness' if score == 0 else 'Affection' if score == 1 else 'Fear' if score == 2 else 'Happiness' if score == 3 else 'Anger' for score in vent_df_labels.label_human]\n",
    "vent_df_labels['label'] = ['Sadness' if score == 0 else 'Affection' if score == 1 else 'Fear' if score == 2 else 'Happiness' if score == 3 else 'Anger' for score in vent_df_labels.label]\n",
    "vent_df_labels.to_csv(\"labeled_vent.csv\")"
   ]
  },
  {
   "cell_type": "markdown",
   "metadata": {},
   "source": [
    "#### 7.2 LEIA\n",
    "* Use the [LEIA](https://huggingface.co/LEIA/LEIA-base) model introduced in the previous exercise to classify the sentences and store the results in a column named `label_leia`."
   ]
  },
  {
   "cell_type": "code",
   "execution_count": 15,
   "metadata": {},
   "outputs": [
    {
     "data": {
      "text/html": [
       "<div>\n",
       "<style scoped>\n",
       "    .dataframe tbody tr th:only-of-type {\n",
       "        vertical-align: middle;\n",
       "    }\n",
       "\n",
       "    .dataframe tbody tr th {\n",
       "        vertical-align: top;\n",
       "    }\n",
       "\n",
       "    .dataframe thead th {\n",
       "        text-align: right;\n",
       "    }\n",
       "</style>\n",
       "<table border=\"1\" class=\"dataframe\">\n",
       "  <thead>\n",
       "    <tr style=\"text-align: right;\">\n",
       "      <th></th>\n",
       "      <th>text</th>\n",
       "      <th>label</th>\n",
       "      <th>label_human</th>\n",
       "      <th>label_leia</th>\n",
       "    </tr>\n",
       "  </thead>\n",
       "  <tbody>\n",
       "    <tr>\n",
       "      <th>0</th>\n",
       "      <td>my life is nothing.</td>\n",
       "      <td>Sadness</td>\n",
       "      <td>Sadness</td>\n",
       "      <td>Sadness</td>\n",
       "    </tr>\n",
       "    <tr>\n",
       "      <th>1</th>\n",
       "      <td>I'm also scared ive fucked up</td>\n",
       "      <td>Fear</td>\n",
       "      <td>Fear</td>\n",
       "      <td>Fear</td>\n",
       "    </tr>\n",
       "    <tr>\n",
       "      <th>2</th>\n",
       "      <td>Woke up at 4am...still cannot fall asleep and ...</td>\n",
       "      <td>Anger</td>\n",
       "      <td>Anger</td>\n",
       "      <td>Anger</td>\n",
       "    </tr>\n",
       "    <tr>\n",
       "      <th>3</th>\n",
       "      <td>GUYS I SAW THE HOT GUY FROM CHURCH TODAY AND I...</td>\n",
       "      <td>Happiness</td>\n",
       "      <td>Happiness</td>\n",
       "      <td>Happiness</td>\n",
       "    </tr>\n",
       "    <tr>\n",
       "      <th>4</th>\n",
       "      <td>i only like black guys</td>\n",
       "      <td>Affection</td>\n",
       "      <td>Sadness</td>\n",
       "      <td>Affection</td>\n",
       "    </tr>\n",
       "    <tr>\n",
       "      <th>5</th>\n",
       "      <td>Why can't everything be more simple?</td>\n",
       "      <td>Anger</td>\n",
       "      <td>Sadness</td>\n",
       "      <td>Fear</td>\n",
       "    </tr>\n",
       "    <tr>\n",
       "      <th>6</th>\n",
       "      <td>We are going to travel the world together one ...</td>\n",
       "      <td>Happiness</td>\n",
       "      <td>Happiness</td>\n",
       "      <td>Affection</td>\n",
       "    </tr>\n",
       "    <tr>\n",
       "      <th>7</th>\n",
       "      <td>When your boyfriend cheats on you😊😊😊😊😊😊😊😊😊😊😊😊😊😊😊</td>\n",
       "      <td>Anger</td>\n",
       "      <td>Sadness</td>\n",
       "      <td>Anger</td>\n",
       "    </tr>\n",
       "    <tr>\n",
       "      <th>8</th>\n",
       "      <td>i literally have no idea what i was even tryin...</td>\n",
       "      <td>Fear</td>\n",
       "      <td>Sadness</td>\n",
       "      <td>Anger</td>\n",
       "    </tr>\n",
       "    <tr>\n",
       "      <th>9</th>\n",
       "      <td>I really don't want to go to school today i ha...</td>\n",
       "      <td>Fear</td>\n",
       "      <td>Fear</td>\n",
       "      <td>Fear</td>\n",
       "    </tr>\n",
       "    <tr>\n",
       "      <th>10</th>\n",
       "      <td>Went bra shopping yesterday and now I feel rea...</td>\n",
       "      <td>Sadness</td>\n",
       "      <td>Sadness</td>\n",
       "      <td>Sadness</td>\n",
       "    </tr>\n",
       "    <tr>\n",
       "      <th>11</th>\n",
       "      <td>My boyfriend &lt;3 &lt;3 &lt;3 &lt;3 I can't wait to see h...</td>\n",
       "      <td>Affection</td>\n",
       "      <td>Affection</td>\n",
       "      <td>Affection</td>\n",
       "    </tr>\n",
       "    <tr>\n",
       "      <th>12</th>\n",
       "      <td>This weekend is stressing me out. I have to be...</td>\n",
       "      <td>Fear</td>\n",
       "      <td>Fear</td>\n",
       "      <td>Fear</td>\n",
       "    </tr>\n",
       "    <tr>\n",
       "      <th>13</th>\n",
       "      <td>I'm just remembering that I texted 🤓 on Thanks...</td>\n",
       "      <td>Affection</td>\n",
       "      <td>Affection</td>\n",
       "      <td>Affection</td>\n",
       "    </tr>\n",
       "    <tr>\n",
       "      <th>14</th>\n",
       "      <td>Love is blind, so let's have a love so deep th...</td>\n",
       "      <td>Affection</td>\n",
       "      <td>Affection</td>\n",
       "      <td>Affection</td>\n",
       "    </tr>\n",
       "    <tr>\n",
       "      <th>15</th>\n",
       "      <td>I try to really make an effort with you, but e...</td>\n",
       "      <td>Happiness</td>\n",
       "      <td>Sadness</td>\n",
       "      <td>Sadness</td>\n",
       "    </tr>\n",
       "    <tr>\n",
       "      <th>16</th>\n",
       "      <td>Having issues opening the app again. Really ho...</td>\n",
       "      <td>Fear</td>\n",
       "      <td>Anger</td>\n",
       "      <td>Fear</td>\n",
       "    </tr>\n",
       "    <tr>\n",
       "      <th>17</th>\n",
       "      <td>G-Eazy has my heart now. ♥</td>\n",
       "      <td>Affection</td>\n",
       "      <td>Affection</td>\n",
       "      <td>Affection</td>\n",
       "    </tr>\n",
       "    <tr>\n",
       "      <th>18</th>\n",
       "      <td>I want some friends in my new area but I have ...</td>\n",
       "      <td>Sadness</td>\n",
       "      <td>Sadness</td>\n",
       "      <td>Sadness</td>\n",
       "    </tr>\n",
       "    <tr>\n",
       "      <th>19</th>\n",
       "      <td>yay we finally got the update so hey all my lo...</td>\n",
       "      <td>Happiness</td>\n",
       "      <td>Happiness</td>\n",
       "      <td>Happiness</td>\n",
       "    </tr>\n",
       "    <tr>\n",
       "      <th>20</th>\n",
       "      <td>Yeah your busy, too busy to Even say hey?</td>\n",
       "      <td>Anger</td>\n",
       "      <td>Anger</td>\n",
       "      <td>Sadness</td>\n",
       "    </tr>\n",
       "    <tr>\n",
       "      <th>21</th>\n",
       "      <td>Something that pisses me off with this class w...</td>\n",
       "      <td>Anger</td>\n",
       "      <td>Anger</td>\n",
       "      <td>Anger</td>\n",
       "    </tr>\n",
       "    <tr>\n",
       "      <th>22</th>\n",
       "      <td>You get upset when your phone doesn't work and...</td>\n",
       "      <td>Affection</td>\n",
       "      <td>Anger</td>\n",
       "      <td>Anger</td>\n",
       "    </tr>\n",
       "    <tr>\n",
       "      <th>23</th>\n",
       "      <td>Got nominated for a blog award! Looking forwar...</td>\n",
       "      <td>Happiness</td>\n",
       "      <td>Happiness</td>\n",
       "      <td>Happiness</td>\n",
       "    </tr>\n",
       "    <tr>\n",
       "      <th>24</th>\n",
       "      <td>If anyone knows how to work those shiny Yvelta...</td>\n",
       "      <td>Anger</td>\n",
       "      <td>Anger</td>\n",
       "      <td>Anger</td>\n",
       "    </tr>\n",
       "    <tr>\n",
       "      <th>25</th>\n",
       "      <td>I get that hes busy. I dont blame him for igno...</td>\n",
       "      <td>Sadness</td>\n",
       "      <td>Sadness</td>\n",
       "      <td>Sadness</td>\n",
       "    </tr>\n",
       "    <tr>\n",
       "      <th>26</th>\n",
       "      <td>AHHHHHH! I JUST FOUND TWO NEW SONGS I LOVE! LI...</td>\n",
       "      <td>Happiness</td>\n",
       "      <td>Happiness</td>\n",
       "      <td>Happiness</td>\n",
       "    </tr>\n",
       "    <tr>\n",
       "      <th>27</th>\n",
       "      <td>\"Now that you love her everything has changed\"...</td>\n",
       "      <td>Sadness</td>\n",
       "      <td>Sadness</td>\n",
       "      <td>Sadness</td>\n",
       "    </tr>\n",
       "    <tr>\n",
       "      <th>28</th>\n",
       "      <td>I have a math project and two extra credit pap...</td>\n",
       "      <td>Fear</td>\n",
       "      <td>Fear</td>\n",
       "      <td>Fear</td>\n",
       "    </tr>\n",
       "    <tr>\n",
       "      <th>29</th>\n",
       "      <td>I just wish I could tell my mom these things</td>\n",
       "      <td>Sadness</td>\n",
       "      <td>Sadness</td>\n",
       "      <td>Sadness</td>\n",
       "    </tr>\n",
       "  </tbody>\n",
       "</table>\n",
       "</div>"
      ],
      "text/plain": [
       "                                                 text      label label_human  \\\n",
       "0                                my life is nothing.     Sadness     Sadness   \n",
       "1                       I'm also scared ive fucked up       Fear        Fear   \n",
       "2   Woke up at 4am...still cannot fall asleep and ...      Anger       Anger   \n",
       "3   GUYS I SAW THE HOT GUY FROM CHURCH TODAY AND I...  Happiness   Happiness   \n",
       "4                             i only like black guys   Affection     Sadness   \n",
       "5                Why can't everything be more simple?      Anger     Sadness   \n",
       "6   We are going to travel the world together one ...  Happiness   Happiness   \n",
       "7    When your boyfriend cheats on you😊😊😊😊😊😊😊😊😊😊😊😊😊😊😊      Anger     Sadness   \n",
       "8   i literally have no idea what i was even tryin...       Fear     Sadness   \n",
       "9   I really don't want to go to school today i ha...       Fear        Fear   \n",
       "10  Went bra shopping yesterday and now I feel rea...    Sadness     Sadness   \n",
       "11  My boyfriend <3 <3 <3 <3 I can't wait to see h...  Affection   Affection   \n",
       "12  This weekend is stressing me out. I have to be...       Fear        Fear   \n",
       "13  I'm just remembering that I texted 🤓 on Thanks...  Affection   Affection   \n",
       "14  Love is blind, so let's have a love so deep th...  Affection   Affection   \n",
       "15  I try to really make an effort with you, but e...  Happiness     Sadness   \n",
       "16  Having issues opening the app again. Really ho...       Fear       Anger   \n",
       "17                         G-Eazy has my heart now. ♥  Affection   Affection   \n",
       "18  I want some friends in my new area but I have ...    Sadness     Sadness   \n",
       "19  yay we finally got the update so hey all my lo...  Happiness   Happiness   \n",
       "20          Yeah your busy, too busy to Even say hey?      Anger       Anger   \n",
       "21  Something that pisses me off with this class w...      Anger       Anger   \n",
       "22  You get upset when your phone doesn't work and...  Affection       Anger   \n",
       "23  Got nominated for a blog award! Looking forwar...  Happiness   Happiness   \n",
       "24  If anyone knows how to work those shiny Yvelta...      Anger       Anger   \n",
       "25  I get that hes busy. I dont blame him for igno...    Sadness     Sadness   \n",
       "26  AHHHHHH! I JUST FOUND TWO NEW SONGS I LOVE! LI...  Happiness   Happiness   \n",
       "27  \"Now that you love her everything has changed\"...    Sadness     Sadness   \n",
       "28  I have a math project and two extra credit pap...       Fear        Fear   \n",
       "29       I just wish I could tell my mom these things    Sadness     Sadness   \n",
       "\n",
       "   label_leia  \n",
       "0     Sadness  \n",
       "1        Fear  \n",
       "2       Anger  \n",
       "3   Happiness  \n",
       "4   Affection  \n",
       "5        Fear  \n",
       "6   Affection  \n",
       "7       Anger  \n",
       "8       Anger  \n",
       "9        Fear  \n",
       "10    Sadness  \n",
       "11  Affection  \n",
       "12       Fear  \n",
       "13  Affection  \n",
       "14  Affection  \n",
       "15    Sadness  \n",
       "16       Fear  \n",
       "17  Affection  \n",
       "18    Sadness  \n",
       "19  Happiness  \n",
       "20    Sadness  \n",
       "21      Anger  \n",
       "22      Anger  \n",
       "23  Happiness  \n",
       "24      Anger  \n",
       "25    Sadness  \n",
       "26  Happiness  \n",
       "27    Sadness  \n",
       "28       Fear  \n",
       "29    Sadness  "
      ]
     },
     "execution_count": 15,
     "metadata": {},
     "output_type": "execute_result"
    }
   ],
   "source": [
    "vent_df_labels['label_leia'] = [analyzer_LEIA(sentence)[0]['label'] for sentence in vent_df_labels.text]\n",
    "vent_df_labels"
   ]
  },
  {
   "cell_type": "markdown",
   "metadata": {},
   "source": [
    "#### 7.3 Openai models\n",
    "* In the following exercise we will work with the [openai API](https://platform.openai.com/docs/api-reference), an API which allows you to access very powerful AI models. Your task will be to use a [text completion](https://platform.openai.com/docs/api-reference/completions/) or a [chat completion](https://platform.openai.com/docs/guides/chat/introduction) model to classify the sentences in `sample_with_labels.csv` according to their emotion (Sadness, Affection, Fear, Happiness, Anger).\n",
    "* You can sign up for the API by providing a phone number, and get 5 USD of free credits, which should be more than enough to complete this exercise.\n",
    "* If you use your own account, you can use any text completion/chat completion model to complete the exercise, you are also allowed to [fine-tune](https://platform.openai.com/docs/api-reference/fine-tunes) one of the text completion models, and use it for classification.\n",
    "* If you can't/don't want to sign up for the API, we created an API wrapper, through wich you can use the `gpt-3.5-turbo` model. We set a limit of 1_000_000 tokens per API key, which should be more than enough to complete the task, so feel free to experiment to find the best prompt.\n",
    "* In your `a03` folder, you can find a file named `api_key.txt`, which stores your API key you will need to use the API wrapper. ***Important: this is not a real openai API key, we use it internally in the API wrapper, to monitor usage***\n",
    "* To set up the API wrapper with the openai module, run the following code:\n",
    "```python\n",
    "import openai\n",
    "openai.api_base = 'https://smdapi-1-a6938250.deta.app'\n",
    "your_api_key = '' # your key from api_key.txt\n",
    "openai.api_key = your_api_key\n",
    "```\n",
    "* After you run this setup, you can use the `openai.ChatCompletion.create` function just like when your are using the openai module ([documentation](https://platform.openai.com/docs/guides/chat)).\n",
    "* Store the results in a column named `label_gpt`."
   ]
  },
  {
   "cell_type": "code",
   "execution_count": 19,
   "metadata": {},
   "outputs": [
    {
     "name": "stdout",
     "output_type": "stream",
     "text": [
      "Defaulting to user installation because normal site-packages is not writeable\n",
      "Requirement already satisfied: openai in /home/ubuntu/.local/lib/python3.10/site-packages (0.27.7)\n",
      "Requirement already satisfied: aiohttp in /home/ubuntu/.local/lib/python3.10/site-packages (from openai) (3.8.3)\n",
      "Requirement already satisfied: requests>=2.20 in /usr/lib/python3/dist-packages (from openai) (2.25.1)\n",
      "Requirement already satisfied: tqdm in /home/ubuntu/.local/lib/python3.10/site-packages (from openai) (4.64.1)\n",
      "Requirement already satisfied: charset-normalizer<3.0,>=2.0 in /home/ubuntu/.local/lib/python3.10/site-packages (from aiohttp->openai) (2.1.1)\n",
      "Requirement already satisfied: multidict<7.0,>=4.5 in /home/ubuntu/.local/lib/python3.10/site-packages (from aiohttp->openai) (6.0.4)\n",
      "Requirement already satisfied: yarl<2.0,>=1.0 in /home/ubuntu/.local/lib/python3.10/site-packages (from aiohttp->openai) (1.8.2)\n",
      "Requirement already satisfied: aiosignal>=1.1.2 in /home/ubuntu/.local/lib/python3.10/site-packages (from aiohttp->openai) (1.3.1)\n",
      "Requirement already satisfied: frozenlist>=1.1.1 in /home/ubuntu/.local/lib/python3.10/site-packages (from aiohttp->openai) (1.3.3)\n",
      "Requirement already satisfied: async-timeout<5.0,>=4.0.0a3 in /home/ubuntu/.local/lib/python3.10/site-packages (from aiohttp->openai) (4.0.2)\n",
      "Requirement already satisfied: attrs>=17.3.0 in /usr/lib/python3/dist-packages (from aiohttp->openai) (21.2.0)\n",
      "Requirement already satisfied: idna>=2.0 in /usr/lib/python3/dist-packages (from yarl<2.0,>=1.0->aiohttp->openai) (3.3)\n"
     ]
    }
   ],
   "source": [
    "# install requirements\n",
    "# !pip install openai"
   ]
  },
  {
   "cell_type": "code",
   "execution_count": 16,
   "metadata": {},
   "outputs": [],
   "source": [
    "import openai\n",
    "openai.api_base = 'https://smdapi-1-a6938250.deta.app'\n",
    "your_api_key = '1Eu2H5v7K7zT980I01v4' # your key from api_key.txt\n",
    "openai.api_key = your_api_key"
   ]
  },
  {
   "cell_type": "code",
   "execution_count": 28,
   "metadata": {},
   "outputs": [
    {
     "ename": "APIError",
     "evalue": "HTTP code 502 from API (<h3>Error Type:</h3>\n\t\t<p></p>\n\t\t<h3>Error Message:</h3>\n\t\t<p>2023-06-21T18:33:18.349Z 824b2fea-8dd7-4612-8a2a-d62b35949bdc Task timed out after 20.02 seconds</p>\n\t\t<h3>Logs:</h3>\n\t\t<pre></pre>\n\t)",
     "output_type": "error",
     "traceback": [
      "\u001b[0;31m---------------------------------------------------------------------------\u001b[0m",
      "\u001b[0;31mJSONDecodeError\u001b[0m                           Traceback (most recent call last)",
      "File \u001b[0;32m~/.local/lib/python3.10/site-packages/openai/api_requestor.py:677\u001b[0m, in \u001b[0;36mAPIRequestor._interpret_response_line\u001b[0;34m(self, rbody, rcode, rheaders, stream)\u001b[0m\n\u001b[1;32m    676\u001b[0m     \u001b[39melse\u001b[39;00m:\n\u001b[0;32m--> 677\u001b[0m         data \u001b[39m=\u001b[39m json\u001b[39m.\u001b[39;49mloads(rbody)\n\u001b[1;32m    678\u001b[0m \u001b[39mexcept\u001b[39;00m (JSONDecodeError, \u001b[39mUnicodeDecodeError\u001b[39;00m) \u001b[39mas\u001b[39;00m e:\n",
      "File \u001b[0;32m/usr/lib/python3.10/json/__init__.py:346\u001b[0m, in \u001b[0;36mloads\u001b[0;34m(s, cls, object_hook, parse_float, parse_int, parse_constant, object_pairs_hook, **kw)\u001b[0m\n\u001b[1;32m    343\u001b[0m \u001b[39mif\u001b[39;00m (\u001b[39mcls\u001b[39m \u001b[39mis\u001b[39;00m \u001b[39mNone\u001b[39;00m \u001b[39mand\u001b[39;00m object_hook \u001b[39mis\u001b[39;00m \u001b[39mNone\u001b[39;00m \u001b[39mand\u001b[39;00m\n\u001b[1;32m    344\u001b[0m         parse_int \u001b[39mis\u001b[39;00m \u001b[39mNone\u001b[39;00m \u001b[39mand\u001b[39;00m parse_float \u001b[39mis\u001b[39;00m \u001b[39mNone\u001b[39;00m \u001b[39mand\u001b[39;00m\n\u001b[1;32m    345\u001b[0m         parse_constant \u001b[39mis\u001b[39;00m \u001b[39mNone\u001b[39;00m \u001b[39mand\u001b[39;00m object_pairs_hook \u001b[39mis\u001b[39;00m \u001b[39mNone\u001b[39;00m \u001b[39mand\u001b[39;00m \u001b[39mnot\u001b[39;00m kw):\n\u001b[0;32m--> 346\u001b[0m     \u001b[39mreturn\u001b[39;00m _default_decoder\u001b[39m.\u001b[39;49mdecode(s)\n\u001b[1;32m    347\u001b[0m \u001b[39mif\u001b[39;00m \u001b[39mcls\u001b[39m \u001b[39mis\u001b[39;00m \u001b[39mNone\u001b[39;00m:\n",
      "File \u001b[0;32m/usr/lib/python3.10/json/decoder.py:337\u001b[0m, in \u001b[0;36mJSONDecoder.decode\u001b[0;34m(self, s, _w)\u001b[0m\n\u001b[1;32m    333\u001b[0m \u001b[39m\u001b[39m\u001b[39m\"\"\"Return the Python representation of ``s`` (a ``str`` instance\u001b[39;00m\n\u001b[1;32m    334\u001b[0m \u001b[39mcontaining a JSON document).\u001b[39;00m\n\u001b[1;32m    335\u001b[0m \n\u001b[1;32m    336\u001b[0m \u001b[39m\"\"\"\u001b[39;00m\n\u001b[0;32m--> 337\u001b[0m obj, end \u001b[39m=\u001b[39m \u001b[39mself\u001b[39;49m\u001b[39m.\u001b[39;49mraw_decode(s, idx\u001b[39m=\u001b[39;49m_w(s, \u001b[39m0\u001b[39;49m)\u001b[39m.\u001b[39;49mend())\n\u001b[1;32m    338\u001b[0m end \u001b[39m=\u001b[39m _w(s, end)\u001b[39m.\u001b[39mend()\n",
      "File \u001b[0;32m/usr/lib/python3.10/json/decoder.py:355\u001b[0m, in \u001b[0;36mJSONDecoder.raw_decode\u001b[0;34m(self, s, idx)\u001b[0m\n\u001b[1;32m    354\u001b[0m \u001b[39mexcept\u001b[39;00m \u001b[39mStopIteration\u001b[39;00m \u001b[39mas\u001b[39;00m err:\n\u001b[0;32m--> 355\u001b[0m     \u001b[39mraise\u001b[39;00m JSONDecodeError(\u001b[39m\"\u001b[39m\u001b[39mExpecting value\u001b[39m\u001b[39m\"\u001b[39m, s, err\u001b[39m.\u001b[39mvalue) \u001b[39mfrom\u001b[39;00m \u001b[39mNone\u001b[39;00m\n\u001b[1;32m    356\u001b[0m \u001b[39mreturn\u001b[39;00m obj, end\n",
      "\u001b[0;31mJSONDecodeError\u001b[0m: Expecting value: line 1 column 1 (char 0)",
      "\nThe above exception was the direct cause of the following exception:\n",
      "\u001b[0;31mAPIError\u001b[0m                                  Traceback (most recent call last)",
      "Cell \u001b[0;32mIn[28], line 11\u001b[0m\n\u001b[1;32m      4\u001b[0m \u001b[39mdef\u001b[39;00m \u001b[39mgpt_labeling\u001b[39m(sentence):\n\u001b[1;32m      5\u001b[0m   \u001b[39mreturn\u001b[39;00m openai\u001b[39m.\u001b[39mChatCompletion\u001b[39m.\u001b[39mcreate(\n\u001b[1;32m      6\u001b[0m   model\u001b[39m=\u001b[39m\u001b[39m\"\u001b[39m\u001b[39mgpt-3.5-turbo\u001b[39m\u001b[39m\"\u001b[39m,\n\u001b[1;32m      7\u001b[0m   messages\u001b[39m=\u001b[39m[\n\u001b[1;32m      8\u001b[0m         {\u001b[39m\"\u001b[39m\u001b[39mrole\u001b[39m\u001b[39m\"\u001b[39m: \u001b[39m\"\u001b[39m\u001b[39muser\u001b[39m\u001b[39m\"\u001b[39m, \u001b[39m\"\u001b[39m\u001b[39mcontent\u001b[39m\u001b[39m\"\u001b[39m: \u001b[39mf\u001b[39m\u001b[39m\"\u001b[39m\u001b[39mYou must choose one of the words Sadness, Affection, Fear, Happiness, Anger. Do not return any other sentences or words, only use the words Sadness, Affection, Fear, Happiness, Anger. Choose the word that best describes the sentiment in the sentence: \u001b[39m\u001b[39m{\u001b[39;00msentence\u001b[39m}\u001b[39;00m\u001b[39m\"\u001b[39m}\n\u001b[1;32m      9\u001b[0m     ]\n\u001b[1;32m     10\u001b[0m   )[\u001b[39m'\u001b[39m\u001b[39mchoices\u001b[39m\u001b[39m'\u001b[39m][\u001b[39m0\u001b[39m][\u001b[39m'\u001b[39m\u001b[39mmessage\u001b[39m\u001b[39m'\u001b[39m][\u001b[39m'\u001b[39m\u001b[39mcontent\u001b[39m\u001b[39m'\u001b[39m]\u001b[39m.\u001b[39mstrip(punctuation)\n\u001b[0;32m---> 11\u001b[0m vent_df_labels[\u001b[39m'\u001b[39m\u001b[39mlabel_gpt\u001b[39m\u001b[39m'\u001b[39m] \u001b[39m=\u001b[39m [gpt_labeling(sentence) \u001b[39mfor\u001b[39;00m sentence \u001b[39min\u001b[39;00m vent_df_labels\u001b[39m.\u001b[39mtext]\n\u001b[1;32m     12\u001b[0m vent_df_labels\u001b[39m.\u001b[39mto_csv(\u001b[39m\"\u001b[39m\u001b[39mlabel_vent.csv\u001b[39m\u001b[39m\"\u001b[39m)\n",
      "Cell \u001b[0;32mIn[28], line 11\u001b[0m, in \u001b[0;36m<listcomp>\u001b[0;34m(.0)\u001b[0m\n\u001b[1;32m      4\u001b[0m \u001b[39mdef\u001b[39;00m \u001b[39mgpt_labeling\u001b[39m(sentence):\n\u001b[1;32m      5\u001b[0m   \u001b[39mreturn\u001b[39;00m openai\u001b[39m.\u001b[39mChatCompletion\u001b[39m.\u001b[39mcreate(\n\u001b[1;32m      6\u001b[0m   model\u001b[39m=\u001b[39m\u001b[39m\"\u001b[39m\u001b[39mgpt-3.5-turbo\u001b[39m\u001b[39m\"\u001b[39m,\n\u001b[1;32m      7\u001b[0m   messages\u001b[39m=\u001b[39m[\n\u001b[1;32m      8\u001b[0m         {\u001b[39m\"\u001b[39m\u001b[39mrole\u001b[39m\u001b[39m\"\u001b[39m: \u001b[39m\"\u001b[39m\u001b[39muser\u001b[39m\u001b[39m\"\u001b[39m, \u001b[39m\"\u001b[39m\u001b[39mcontent\u001b[39m\u001b[39m\"\u001b[39m: \u001b[39mf\u001b[39m\u001b[39m\"\u001b[39m\u001b[39mYou must choose one of the words Sadness, Affection, Fear, Happiness, Anger. Do not return any other sentences or words, only use the words Sadness, Affection, Fear, Happiness, Anger. Choose the word that best describes the sentiment in the sentence: \u001b[39m\u001b[39m{\u001b[39;00msentence\u001b[39m}\u001b[39;00m\u001b[39m\"\u001b[39m}\n\u001b[1;32m      9\u001b[0m     ]\n\u001b[1;32m     10\u001b[0m   )[\u001b[39m'\u001b[39m\u001b[39mchoices\u001b[39m\u001b[39m'\u001b[39m][\u001b[39m0\u001b[39m][\u001b[39m'\u001b[39m\u001b[39mmessage\u001b[39m\u001b[39m'\u001b[39m][\u001b[39m'\u001b[39m\u001b[39mcontent\u001b[39m\u001b[39m'\u001b[39m]\u001b[39m.\u001b[39mstrip(punctuation)\n\u001b[0;32m---> 11\u001b[0m vent_df_labels[\u001b[39m'\u001b[39m\u001b[39mlabel_gpt\u001b[39m\u001b[39m'\u001b[39m] \u001b[39m=\u001b[39m [gpt_labeling(sentence) \u001b[39mfor\u001b[39;00m sentence \u001b[39min\u001b[39;00m vent_df_labels\u001b[39m.\u001b[39mtext]\n\u001b[1;32m     12\u001b[0m vent_df_labels\u001b[39m.\u001b[39mto_csv(\u001b[39m\"\u001b[39m\u001b[39mlabel_vent.csv\u001b[39m\u001b[39m\"\u001b[39m)\n",
      "Cell \u001b[0;32mIn[28], line 5\u001b[0m, in \u001b[0;36mgpt_labeling\u001b[0;34m(sentence)\u001b[0m\n\u001b[1;32m      4\u001b[0m \u001b[39mdef\u001b[39;00m \u001b[39mgpt_labeling\u001b[39m(sentence):\n\u001b[0;32m----> 5\u001b[0m   \u001b[39mreturn\u001b[39;00m openai\u001b[39m.\u001b[39;49mChatCompletion\u001b[39m.\u001b[39;49mcreate(\n\u001b[1;32m      6\u001b[0m   model\u001b[39m=\u001b[39;49m\u001b[39m\"\u001b[39;49m\u001b[39mgpt-3.5-turbo\u001b[39;49m\u001b[39m\"\u001b[39;49m,\n\u001b[1;32m      7\u001b[0m   messages\u001b[39m=\u001b[39;49m[\n\u001b[1;32m      8\u001b[0m         {\u001b[39m\"\u001b[39;49m\u001b[39mrole\u001b[39;49m\u001b[39m\"\u001b[39;49m: \u001b[39m\"\u001b[39;49m\u001b[39muser\u001b[39;49m\u001b[39m\"\u001b[39;49m, \u001b[39m\"\u001b[39;49m\u001b[39mcontent\u001b[39;49m\u001b[39m\"\u001b[39;49m: \u001b[39mf\u001b[39;49m\u001b[39m\"\u001b[39;49m\u001b[39mYou must choose one of the words Sadness, Affection, Fear, Happiness, Anger. Do not return any other sentences or words, only use the words Sadness, Affection, Fear, Happiness, Anger. Choose the word that best describes the sentiment in the sentence: \u001b[39;49m\u001b[39m{\u001b[39;49;00msentence\u001b[39m}\u001b[39;49;00m\u001b[39m\"\u001b[39;49m}\n\u001b[1;32m      9\u001b[0m     ]\n\u001b[1;32m     10\u001b[0m   )[\u001b[39m'\u001b[39m\u001b[39mchoices\u001b[39m\u001b[39m'\u001b[39m][\u001b[39m0\u001b[39m][\u001b[39m'\u001b[39m\u001b[39mmessage\u001b[39m\u001b[39m'\u001b[39m][\u001b[39m'\u001b[39m\u001b[39mcontent\u001b[39m\u001b[39m'\u001b[39m]\u001b[39m.\u001b[39mstrip(punctuation)\n",
      "File \u001b[0;32m~/.local/lib/python3.10/site-packages/openai/api_resources/chat_completion.py:25\u001b[0m, in \u001b[0;36mChatCompletion.create\u001b[0;34m(cls, *args, **kwargs)\u001b[0m\n\u001b[1;32m     23\u001b[0m \u001b[39mwhile\u001b[39;00m \u001b[39mTrue\u001b[39;00m:\n\u001b[1;32m     24\u001b[0m     \u001b[39mtry\u001b[39;00m:\n\u001b[0;32m---> 25\u001b[0m         \u001b[39mreturn\u001b[39;00m \u001b[39msuper\u001b[39;49m()\u001b[39m.\u001b[39;49mcreate(\u001b[39m*\u001b[39;49margs, \u001b[39m*\u001b[39;49m\u001b[39m*\u001b[39;49mkwargs)\n\u001b[1;32m     26\u001b[0m     \u001b[39mexcept\u001b[39;00m TryAgain \u001b[39mas\u001b[39;00m e:\n\u001b[1;32m     27\u001b[0m         \u001b[39mif\u001b[39;00m timeout \u001b[39mis\u001b[39;00m \u001b[39mnot\u001b[39;00m \u001b[39mNone\u001b[39;00m \u001b[39mand\u001b[39;00m time\u001b[39m.\u001b[39mtime() \u001b[39m>\u001b[39m start \u001b[39m+\u001b[39m timeout:\n",
      "File \u001b[0;32m~/.local/lib/python3.10/site-packages/openai/api_resources/abstract/engine_api_resource.py:153\u001b[0m, in \u001b[0;36mEngineAPIResource.create\u001b[0;34m(cls, api_key, api_base, api_type, request_id, api_version, organization, **params)\u001b[0m\n\u001b[1;32m    127\u001b[0m \u001b[39m@classmethod\u001b[39m\n\u001b[1;32m    128\u001b[0m \u001b[39mdef\u001b[39;00m \u001b[39mcreate\u001b[39m(\n\u001b[1;32m    129\u001b[0m     \u001b[39mcls\u001b[39m,\n\u001b[0;32m   (...)\u001b[0m\n\u001b[1;32m    136\u001b[0m     \u001b[39m*\u001b[39m\u001b[39m*\u001b[39mparams,\n\u001b[1;32m    137\u001b[0m ):\n\u001b[1;32m    138\u001b[0m     (\n\u001b[1;32m    139\u001b[0m         deployment_id,\n\u001b[1;32m    140\u001b[0m         engine,\n\u001b[0;32m   (...)\u001b[0m\n\u001b[1;32m    150\u001b[0m         api_key, api_base, api_type, api_version, organization, \u001b[39m*\u001b[39m\u001b[39m*\u001b[39mparams\n\u001b[1;32m    151\u001b[0m     )\n\u001b[0;32m--> 153\u001b[0m     response, _, api_key \u001b[39m=\u001b[39m requestor\u001b[39m.\u001b[39;49mrequest(\n\u001b[1;32m    154\u001b[0m         \u001b[39m\"\u001b[39;49m\u001b[39mpost\u001b[39;49m\u001b[39m\"\u001b[39;49m,\n\u001b[1;32m    155\u001b[0m         url,\n\u001b[1;32m    156\u001b[0m         params\u001b[39m=\u001b[39;49mparams,\n\u001b[1;32m    157\u001b[0m         headers\u001b[39m=\u001b[39;49mheaders,\n\u001b[1;32m    158\u001b[0m         stream\u001b[39m=\u001b[39;49mstream,\n\u001b[1;32m    159\u001b[0m         request_id\u001b[39m=\u001b[39;49mrequest_id,\n\u001b[1;32m    160\u001b[0m         request_timeout\u001b[39m=\u001b[39;49mrequest_timeout,\n\u001b[1;32m    161\u001b[0m     )\n\u001b[1;32m    163\u001b[0m     \u001b[39mif\u001b[39;00m stream:\n\u001b[1;32m    164\u001b[0m         \u001b[39m# must be an iterator\u001b[39;00m\n\u001b[1;32m    165\u001b[0m         \u001b[39massert\u001b[39;00m \u001b[39mnot\u001b[39;00m \u001b[39misinstance\u001b[39m(response, OpenAIResponse)\n",
      "File \u001b[0;32m~/.local/lib/python3.10/site-packages/openai/api_requestor.py:230\u001b[0m, in \u001b[0;36mAPIRequestor.request\u001b[0;34m(self, method, url, params, headers, files, stream, request_id, request_timeout)\u001b[0m\n\u001b[1;32m    209\u001b[0m \u001b[39mdef\u001b[39;00m \u001b[39mrequest\u001b[39m(\n\u001b[1;32m    210\u001b[0m     \u001b[39mself\u001b[39m,\n\u001b[1;32m    211\u001b[0m     method,\n\u001b[0;32m   (...)\u001b[0m\n\u001b[1;32m    218\u001b[0m     request_timeout: Optional[Union[\u001b[39mfloat\u001b[39m, Tuple[\u001b[39mfloat\u001b[39m, \u001b[39mfloat\u001b[39m]]] \u001b[39m=\u001b[39m \u001b[39mNone\u001b[39;00m,\n\u001b[1;32m    219\u001b[0m ) \u001b[39m-\u001b[39m\u001b[39m>\u001b[39m Tuple[Union[OpenAIResponse, Iterator[OpenAIResponse]], \u001b[39mbool\u001b[39m, \u001b[39mstr\u001b[39m]:\n\u001b[1;32m    220\u001b[0m     result \u001b[39m=\u001b[39m \u001b[39mself\u001b[39m\u001b[39m.\u001b[39mrequest_raw(\n\u001b[1;32m    221\u001b[0m         method\u001b[39m.\u001b[39mlower(),\n\u001b[1;32m    222\u001b[0m         url,\n\u001b[0;32m   (...)\u001b[0m\n\u001b[1;32m    228\u001b[0m         request_timeout\u001b[39m=\u001b[39mrequest_timeout,\n\u001b[1;32m    229\u001b[0m     )\n\u001b[0;32m--> 230\u001b[0m     resp, got_stream \u001b[39m=\u001b[39m \u001b[39mself\u001b[39;49m\u001b[39m.\u001b[39;49m_interpret_response(result, stream)\n\u001b[1;32m    231\u001b[0m     \u001b[39mreturn\u001b[39;00m resp, got_stream, \u001b[39mself\u001b[39m\u001b[39m.\u001b[39mapi_key\n",
      "File \u001b[0;32m~/.local/lib/python3.10/site-packages/openai/api_requestor.py:624\u001b[0m, in \u001b[0;36mAPIRequestor._interpret_response\u001b[0;34m(self, result, stream)\u001b[0m\n\u001b[1;32m    616\u001b[0m     \u001b[39mreturn\u001b[39;00m (\n\u001b[1;32m    617\u001b[0m         \u001b[39mself\u001b[39m\u001b[39m.\u001b[39m_interpret_response_line(\n\u001b[1;32m    618\u001b[0m             line, result\u001b[39m.\u001b[39mstatus_code, result\u001b[39m.\u001b[39mheaders, stream\u001b[39m=\u001b[39m\u001b[39mTrue\u001b[39;00m\n\u001b[1;32m    619\u001b[0m         )\n\u001b[1;32m    620\u001b[0m         \u001b[39mfor\u001b[39;00m line \u001b[39min\u001b[39;00m parse_stream(result\u001b[39m.\u001b[39miter_lines())\n\u001b[1;32m    621\u001b[0m     ), \u001b[39mTrue\u001b[39;00m\n\u001b[1;32m    622\u001b[0m \u001b[39melse\u001b[39;00m:\n\u001b[1;32m    623\u001b[0m     \u001b[39mreturn\u001b[39;00m (\n\u001b[0;32m--> 624\u001b[0m         \u001b[39mself\u001b[39;49m\u001b[39m.\u001b[39;49m_interpret_response_line(\n\u001b[1;32m    625\u001b[0m             result\u001b[39m.\u001b[39;49mcontent\u001b[39m.\u001b[39;49mdecode(\u001b[39m\"\u001b[39;49m\u001b[39mutf-8\u001b[39;49m\u001b[39m\"\u001b[39;49m),\n\u001b[1;32m    626\u001b[0m             result\u001b[39m.\u001b[39;49mstatus_code,\n\u001b[1;32m    627\u001b[0m             result\u001b[39m.\u001b[39;49mheaders,\n\u001b[1;32m    628\u001b[0m             stream\u001b[39m=\u001b[39;49m\u001b[39mFalse\u001b[39;49;00m,\n\u001b[1;32m    629\u001b[0m         ),\n\u001b[1;32m    630\u001b[0m         \u001b[39mFalse\u001b[39;00m,\n\u001b[1;32m    631\u001b[0m     )\n",
      "File \u001b[0;32m~/.local/lib/python3.10/site-packages/openai/api_requestor.py:679\u001b[0m, in \u001b[0;36mAPIRequestor._interpret_response_line\u001b[0;34m(self, rbody, rcode, rheaders, stream)\u001b[0m\n\u001b[1;32m    677\u001b[0m         data \u001b[39m=\u001b[39m json\u001b[39m.\u001b[39mloads(rbody)\n\u001b[1;32m    678\u001b[0m \u001b[39mexcept\u001b[39;00m (JSONDecodeError, \u001b[39mUnicodeDecodeError\u001b[39;00m) \u001b[39mas\u001b[39;00m e:\n\u001b[0;32m--> 679\u001b[0m     \u001b[39mraise\u001b[39;00m error\u001b[39m.\u001b[39mAPIError(\n\u001b[1;32m    680\u001b[0m         \u001b[39mf\u001b[39m\u001b[39m\"\u001b[39m\u001b[39mHTTP code \u001b[39m\u001b[39m{\u001b[39;00mrcode\u001b[39m}\u001b[39;00m\u001b[39m from API (\u001b[39m\u001b[39m{\u001b[39;00mrbody\u001b[39m}\u001b[39;00m\u001b[39m)\u001b[39m\u001b[39m\"\u001b[39m, rbody, rcode, headers\u001b[39m=\u001b[39mrheaders\n\u001b[1;32m    681\u001b[0m     ) \u001b[39mfrom\u001b[39;00m \u001b[39me\u001b[39;00m\n\u001b[1;32m    682\u001b[0m resp \u001b[39m=\u001b[39m OpenAIResponse(data, rheaders)\n\u001b[1;32m    683\u001b[0m \u001b[39m# In the future, we might add a \"status\" parameter to errors\u001b[39;00m\n\u001b[1;32m    684\u001b[0m \u001b[39m# to better handle the \"error while streaming\" case.\u001b[39;00m\n",
      "\u001b[0;31mAPIError\u001b[0m: HTTP code 502 from API (<h3>Error Type:</h3>\n\t\t<p></p>\n\t\t<h3>Error Message:</h3>\n\t\t<p>2023-06-21T18:33:18.349Z 824b2fea-8dd7-4612-8a2a-d62b35949bdc Task timed out after 20.02 seconds</p>\n\t\t<h3>Logs:</h3>\n\t\t<pre></pre>\n\t)"
     ]
    }
   ],
   "source": [
    "# hint: chat completion example from https://platform.openai.com/docs/guides/chat/introduction\n",
    "# this is needed as sometimes it put a period at the \n",
    "from string import punctuation\n",
    "def gpt_labeling(sentence):\n",
    "  return openai.ChatCompletion.create(\n",
    "  model=\"gpt-3.5-turbo\",\n",
    "  messages=[\n",
    "        {\"role\": \"user\", \"content\": f\"You must choose one of the words Sadness, Affection, Fear, Happiness, Anger. Do not return any other sentences or words, only use the words Sadness, Affection, Fear, Happiness, Anger. Choose the word that best describes the sentiment in the sentence: {sentence}\"}\n",
    "    ]\n",
    "  )['choices'][0]['message']['content'].strip(punctuation)\n",
    "vent_df_labels['label_gpt'] = [gpt_labeling(sentence) for sentence in vent_df_labels.text]"
   ]
  },
  {
   "cell_type": "markdown",
   "metadata": {},
   "source": [
    "#### 7.4 Comparison\n",
    "* Compare the performance of the two models, with each other, as well as with the quality of your annotation using the metrics introduced in part 1 (accuracy, precision, recall, f1 score) or other metrics you find interesting. Create informative visualizations to aid the comparison.\n",
    "* Discuss your results. \n",
    "* Are the models accurately predicting human emotions?\n",
    "* Which approach seems to work better? Why?"
   ]
  },
  {
   "cell_type": "code",
   "execution_count": 25,
   "metadata": {},
   "outputs": [],
   "source": [
    "vent_models = ('Accuracy', 'Precision', 'Recall', 'F1')\n",
    "# I'm very sorry for the incredibly messy code here. I did try to streamline it but it ended up not running at all, so instead went with the brute force approach\n",
    "# This has the accuracy, precision, recall, and F1 for the three models\n",
    "vent_stats = {\n",
    "    'Human': (classCounter(vent_df_labels, 'label_human', calcType='custom') / 30, \n",
    "    classCounter(vent_df_labels, 'label_human', calcType='custom')/(classCounter(vent_df_labels, 'label_human', calcType='custom') + classCounter(vent_df_labels, 'label_human', calcType='custom', customWord='Sadness', reverse=True)+ classCounter(vent_df_labels, 'label_human', calcType='custom', customWord='Fear', reverse=True)+classCounter(vent_df_labels, 'label_human', calcType='custom', customWord='Happiness', reverse=True) +classCounter(vent_df_labels, 'label_human', calcType='custom', customWord='Anger', reverse=True)+classCounter(vent_df_labels, 'label_human', calcType='custom', customWord='Affection', reverse=True)), \n",
    "    classCounter(vent_df_labels, 'label_human', calcType='custom')/(classCounter(vent_df_labels, 'label_human', calcType='custom') + classCounter(vent_df_labels, 'label_human', calcType='custom', customWord='Sadness', inverse=True)+ classCounter(vent_df_labels, 'label_human', calcType='custom', customWord='Fear', inverse=True)+classCounter(vent_df_labels, 'label_human', calcType='custom', customWord='Happiness', inverse=True) +classCounter(vent_df_labels, 'label_human', calcType='custom', customWord='Anger', inverse=True)+classCounter(vent_df_labels, 'label_human', calcType='custom', customWord='Affection', inverse=True)), \n",
    "    2 * (classCounter(vent_df_labels, 'label_human', calcType='custom')/(classCounter(vent_df_labels, 'label_human', calcType='custom') + classCounter(vent_df_labels, 'label_human', calcType='custom', customWord='Sadness', inverse=True)+ classCounter(vent_df_labels, 'label_human', calcType='custom', customWord='Fear', inverse=True)+classCounter(vent_df_labels, 'label_human', calcType='custom', customWord='Happiness', inverse=True) +classCounter(vent_df_labels, 'label_human', calcType='custom', customWord='Anger', inverse=True)+classCounter(vent_df_labels, 'label_human', calcType='custom', customWord='Affection', inverse=True)) + classCounter(vent_df_labels, 'label_human', calcType='custom')/(classCounter(vent_df_labels, 'label_human', calcType='custom') + classCounter(vent_df_labels, 'label_human', calcType='custom', customWord='Sadness', reverse=True)+ classCounter(vent_df_labels, 'label_human', calcType='custom', customWord='Fear', reverse=True)+classCounter(vent_df_labels, 'label_human', calcType='custom', customWord='Happiness', reverse=True) +classCounter(vent_df_labels, 'label_human', calcType='custom', customWord='Anger', reverse=True)+classCounter(vent_df_labels, 'label_human', calcType='custom', customWord='Affection', reverse=True)))/(classCounter(vent_df_labels, 'label_human', calcType='custom')/(classCounter(vent_df_labels, 'label_human', calcType='custom') + classCounter(vent_df_labels, 'label_human', calcType='custom', customWord='Sadness', inverse=True)+ classCounter(vent_df_labels, 'label_human', calcType='custom', customWord='Fear', inverse=True)+classCounter(vent_df_labels, 'label_human', calcType='custom', customWord='Happiness', inverse=True) +classCounter(vent_df_labels, 'label_human', calcType='custom', customWord='Anger', inverse=True)+classCounter(vent_df_labels, 'label_human', calcType='custom', customWord='Affection', inverse=True)) *     classCounter(vent_df_labels, 'label_human', calcType='custom')/(classCounter(vent_df_labels, 'label_human', calcType='custom') + classCounter(vent_df_labels, 'label_human', calcType='custom', customWord='Sadness', reverse=True)+ classCounter(vent_df_labels, 'label_human', calcType='custom', customWord='Fear', reverse=True)+classCounter(vent_df_labels, 'label_human', calcType='custom', customWord='Happiness', reverse=True) +classCounter(vent_df_labels, 'label_human', calcType='custom', customWord='Anger', reverse=True)+classCounter(vent_df_labels, 'label_human', calcType='custom', customWord='Affection', reverse=True)))),    \n",
    "    'Leia': (classCounter(vent_df_labels, 'label_leia', calcType='custom') / 30, \n",
    "    classCounter(vent_df_labels, 'label_leia', calcType='custom')/(classCounter(vent_df_labels, 'label_leia', calcType='custom') + classCounter(vent_df_labels, 'label_leia', calcType='custom', customWord='Sadness', reverse=True)+ classCounter(vent_df_labels, 'label_leia', calcType='custom', customWord='Fear', reverse=True)+classCounter(vent_df_labels, 'label_leia', calcType='custom', customWord='Happiness', reverse=True) +classCounter(vent_df_labels, 'label_leia', calcType='custom', customWord='Anger', reverse=True)+classCounter(vent_df_labels, 'label_leia', calcType='custom', customWord='Affection', reverse=True)), \n",
    "    classCounter(vent_df_labels, 'label_leia', calcType='custom')/(classCounter(vent_df_labels, 'label_leia', calcType='custom') + classCounter(vent_df_labels, 'label_leia', calcType='custom', customWord='Sadness', inverse=True)+ classCounter(vent_df_labels, 'label_leia', calcType='custom', customWord='Fear', inverse=True)+classCounter(vent_df_labels, 'label_leia', calcType='custom', customWord='Happiness', inverse=True) +classCounter(vent_df_labels, 'label_leia', calcType='custom', customWord='Anger', inverse=True)+classCounter(vent_df_labels, 'label_leia', calcType='custom', customWord='Affection', inverse=True)), \n",
    "    2 * (classCounter(vent_df_labels, 'label_leia', calcType='custom')/(classCounter(vent_df_labels, 'label_leia', calcType='custom') + classCounter(vent_df_labels, 'label_leia', calcType='custom', customWord='Sadness', inverse=True)+ classCounter(vent_df_labels, 'label_leia', calcType='custom', customWord='Fear', inverse=True)+classCounter(vent_df_labels, 'label_leia', calcType='custom', customWord='Happiness', inverse=True) +classCounter(vent_df_labels, 'label_leia', calcType='custom', customWord='Anger', inverse=True)+classCounter(vent_df_labels, 'label_leia', calcType='custom', customWord='Affection', inverse=True)) + classCounter(vent_df_labels, 'label_leia', calcType='custom')/(classCounter(vent_df_labels, 'label_leia', calcType='custom') + classCounter(vent_df_labels, 'label_leia', calcType='custom', customWord='Sadness', reverse=True)+ classCounter(vent_df_labels, 'label_leia', calcType='custom', customWord='Fear', reverse=True)+classCounter(vent_df_labels, 'label_leia', calcType='custom', customWord='Happiness', reverse=True) +classCounter(vent_df_labels, 'label_leia', calcType='custom', customWord='Anger', reverse=True)+classCounter(vent_df_labels, 'label_leia', calcType='custom', customWord='Affection', reverse=True)))/(classCounter(vent_df_labels, 'label_leia', calcType='custom')/(classCounter(vent_df_labels, 'label_leia', calcType='custom') + classCounter(vent_df_labels, 'label_leia', calcType='custom', customWord='Sadness', inverse=True)+ classCounter(vent_df_labels, 'label_leia', calcType='custom', customWord='Fear', inverse=True)+classCounter(vent_df_labels, 'label_leia', calcType='custom', customWord='Happiness', inverse=True) +classCounter(vent_df_labels, 'label_leia', calcType='custom', customWord='Anger', inverse=True)+classCounter(vent_df_labels, 'label_leia', calcType='custom', customWord='Affection', inverse=True)) * classCounter(vent_df_labels, 'label_leia', calcType='custom')/(classCounter(vent_df_labels, 'label_leia', calcType='custom') + classCounter(vent_df_labels, 'label_leia', calcType='custom', customWord='Sadness', reverse=True)+ classCounter(vent_df_labels, 'label_leia', calcType='custom', customWord='Fear', reverse=True)+classCounter(vent_df_labels, 'label_leia', calcType='custom', customWord='Happiness', reverse=True) +classCounter(vent_df_labels, 'label_leia', calcType='custom', customWord='Anger', reverse=True)+classCounter(vent_df_labels, 'label_leia', calcType='custom', customWord='Affection', reverse=True)))),    \n",
    "    'OpenAI': (classCounter(vent_df_labels, 'label_gpt', calcType='custom') / 30, \n",
    "    classCounter(vent_df_labels, 'label_gpt', calcType='custom')/(classCounter(vent_df_labels, 'label_gpt', calcType='custom') + classCounter(vent_df_labels, 'label_gpt', calcType='custom', customWord='Sadness', reverse=True)+ classCounter(vent_df_labels, 'label_gpt', calcType='custom', customWord='Fear', reverse=True)+classCounter(vent_df_labels, 'label_gpt', calcType='custom', customWord='Happiness', reverse=True) +classCounter(vent_df_labels, 'label_gpt', calcType='custom', customWord='Anger', reverse=True)+classCounter(vent_df_labels, 'label_gpt', calcType='custom', customWord='Affection', reverse=True)), \n",
    "    classCounter(vent_df_labels, 'label_gpt', calcType='custom')/(classCounter(vent_df_labels, 'label_gpt', calcType='custom') + classCounter(vent_df_labels, 'label_gpt', calcType='custom', customWord='Sadness', inverse=True)+ classCounter(vent_df_labels, 'label_gpt', calcType='custom', customWord='Fear', inverse=True)+classCounter(vent_df_labels, 'label_gpt', calcType='custom', customWord='Happiness', inverse=True) +classCounter(vent_df_labels, 'label_gpt', calcType='custom', customWord='Anger', inverse=True)+classCounter(vent_df_labels, 'label_gpt', calcType='custom', customWord='Affection', inverse=True)), \n",
    "    2 * (classCounter(vent_df_labels, 'label_gpt', calcType='custom')/(classCounter(vent_df_labels, 'label_gpt', calcType='custom') + classCounter(vent_df_labels, 'label_gpt', calcType='custom', customWord='Sadness', inverse=True)+ classCounter(vent_df_labels, 'label_gpt', calcType='custom', customWord='Fear', inverse=True)+classCounter(vent_df_labels, 'label_gpt', calcType='custom', customWord='Happiness', inverse=True) +classCounter(vent_df_labels, 'label_gpt', calcType='custom', customWord='Anger', inverse=True)+classCounter(vent_df_labels, 'label_gpt', calcType='custom', customWord='Affection', inverse=True)) + classCounter(vent_df_labels, 'label_gpt', calcType='custom')/(classCounter(vent_df_labels, 'label_gpt', calcType='custom') + classCounter(vent_df_labels, 'label_gpt', calcType='custom', customWord='Sadness', reverse=True)+ classCounter(vent_df_labels, 'label_gpt', calcType='custom', customWord='Fear', reverse=True)+classCounter(vent_df_labels, 'label_gpt', calcType='custom', customWord='Happiness', reverse=True) +classCounter(vent_df_labels, 'label_gpt', calcType='custom', customWord='Anger', reverse=True)+classCounter(vent_df_labels, 'label_gpt', calcType='custom', customWord='Affection', reverse=True)))/(classCounter(vent_df_labels, 'label_gpt', calcType='custom')/(classCounter(vent_df_labels, 'label_gpt', calcType='custom') + classCounter(vent_df_labels, 'label_gpt', calcType='custom', customWord='Sadness', inverse=True)+ classCounter(vent_df_labels, 'label_gpt', calcType='custom', customWord='Fear', inverse=True)+classCounter(vent_df_labels, 'label_gpt', calcType='custom', customWord='Happiness', inverse=True) +classCounter(vent_df_labels, 'label_gpt', calcType='custom', customWord='Anger', inverse=True)+classCounter(vent_df_labels, 'label_gpt', calcType='custom', customWord='Affection', inverse=True)) *     classCounter(vent_df_labels, 'label_gpt', calcType='custom')/(classCounter(vent_df_labels, 'label_gpt', calcType='custom') + classCounter(vent_df_labels, 'label_gpt', calcType='custom', customWord='Sadness', reverse=True)+ classCounter(vent_df_labels, 'label_gpt', calcType='custom', customWord='Fear', reverse=True)+classCounter(vent_df_labels, 'label_gpt', calcType='custom', customWord='Happiness', reverse=True) +classCounter(vent_df_labels, 'label_gpt', calcType='custom', customWord='Anger', reverse=True)+classCounter(vent_df_labels, 'label_gpt', calcType='custom', customWord='Affection', reverse=True))))}\n"
   ]
  },
  {
   "cell_type": "code",
   "execution_count": 27,
   "metadata": {},
   "outputs": [
    {
     "ename": "ValueError",
     "evalue": "not enough values to unpack (expected 2, got 0)",
     "output_type": "error",
     "traceback": [
      "\u001b[0;31m---------------------------------------------------------------------------\u001b[0m",
      "\u001b[0;31mValueError\u001b[0m                                Traceback (most recent call last)",
      "Cell \u001b[0;32mIn[27], line 5\u001b[0m\n\u001b[1;32m      2\u001b[0m \u001b[39mimport\u001b[39;00m \u001b[39mnumpy\u001b[39;00m \u001b[39mas\u001b[39;00m \u001b[39mnp\u001b[39;00m\n\u001b[1;32m      3\u001b[0m x \u001b[39m=\u001b[39m np\u001b[39m.\u001b[39marange(\u001b[39m3\u001b[39m)\n\u001b[0;32m----> 5\u001b[0m fig, axis \u001b[39m=\u001b[39m plt\u001b[39m.\u001b[39mplot()\n\u001b[1;32m      6\u001b[0m width \u001b[39m=\u001b[39m \u001b[39m0.5\u001b[39m\n\u001b[1;32m      7\u001b[0m axis\u001b[39m.\u001b[39mset_title(\u001b[39m'\u001b[39m\u001b[39mVent Dataset Model Comparison\u001b[39m\u001b[39m'\u001b[39m)\n",
      "\u001b[0;31mValueError\u001b[0m: not enough values to unpack (expected 2, got 0)"
     ]
    },
    {
     "data": {
      "image/png": "[encoded data removed]",
      "text/plain": [
       "<Figure size 640x480 with 1 Axes>"
      ]
     },
     "metadata": {},
     "output_type": "display_data"
    }
   ],
   "source": [
    "import matplotlib.pyplot as plt\n",
    "import numpy as np\n",
    "x = np.arange(3)\n",
    "\n",
    "fig, axis = plt.plot()\n",
    "width = 0.5\n",
    "axis.set_title('Vent Dataset Model Comparison')\n",
    "axis.bar(x-1.5*width, vent_stats['Human'], width, color = 'limegreen')\n",
    "axis.bar(x, vent_stats['LEIA'], width, color = 'blueviolet')\n",
    "axis.bar(x+1.5*width, vent_stats['OpenAI'], width, color = 'orange')\n",
    "axs[0,1].legend(['Human', 'LEIA', 'OpenAI'], bbox_to_anchor=(-1.3, -0.1))"
   ]
  },
  {
   "cell_type": "markdown",
   "metadata": {},
   "source": [
    "LEIA is quite accurate, getting most of the labels correct. Interestingly, the ones where it's not correct, a few times it chooses the same as the human who also got it wrong. It shows that this dataset is super subjective, especially a few texts where all four labels or at least three are different. Sometimes the text is also multiple emotions, which makes sense when one remembers this a website for people tp talk about their feelings, and sometimes one just writes a long stream of consciousness that doesn't really make a lot of sense and has high emotion but not always the same emotion throughout. A couple texts also completely change emotion at the very end, perhaps after LEIA is cutting the text to the maximum of 128 tokens. This also affects the accuracy and precision of the emotion analysis.\n",
    "\n",
    "OpenAI actually isn't too bad at predicting the emotions. There are a couple texts where it disagrees with the label and both LEIA and the human, and also for a couple it insisted on not using the five words given to it, either saying there is no sentiment (which I would actually agree on and I mislabeled it as well) or somehow coming up with new words, confusion and frustration. The frustration one makes sense, as does fit the text, and both human and LEIA are different to the real label, but that's not what was asked of it, and the same for the one labeled confusion."
   ]
  }
 ],
 "metadata": {
  "kernelspec": {
   "display_name": "Python 3.10.6 64-bit",
   "language": "python",
   "name": "python3"
  },
  "language_info": {
   "codemirror_mode": {
    "name": "ipython",
    "version": 3
   },
   "file_extension": ".py",
   "mimetype": "text/x-python",
   "name": "python",
   "nbconvert_exporter": "python",
   "pygments_lexer": "ipython3",
   "version": "3.10.6"
  },
  "vscode": {
   "interpreter": {
    "hash": "e7370f93d1d0cde622a1f8e1c04877d8463912d04d973331ad4851f04de6915a"
   }
  }
 },
 "nbformat": 4,
 "nbformat_minor": 2
}
