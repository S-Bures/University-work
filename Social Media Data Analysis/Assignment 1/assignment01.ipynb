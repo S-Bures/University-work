{
 "cells": [
  {
   "cell_type": "markdown",
   "id": "a72e5cb4",
   "metadata": {},
   "source": [
    "<div style=\"text-align: center;\" >\n",
    "<h1 style=\"margin-top: 0.2em; margin-bottom: 0.1em;\">Assignment 1</h1>\n",
    "<h4 style=\"margin-top: 0.7em; margin-bottom: 0.3em; font-style:italic\">\n",
    "Commit your solutions to our \n",
    "<a href='https://classroom.github.com/a/kezCqKON'>GitHub Classroom</a>\n",
    "until May 3, 23:59</h4>\n",
    "</div>\n",
    "<br>"
   ]
  },
  {
   "cell_type": "markdown",
   "id": "252b0fe0",
   "metadata": {},
   "source": [
    "## Part 1\n",
    "## Correlation of Future Orientation Index and Gross Domestic Product"
   ]
  },
  {
   "cell_type": "markdown",
   "id": "a82d402b",
   "metadata": {},
   "source": [
    "### Tasks\n",
    "\n",
    "In this exercise, we try to reproduce the findings of the article “Quantifying the Advantage of Looking Forward” http://www.nature.com/articles/srep00350.\n",
    "\n",
    "According to the study, the GDP per capita of countries is positively correlated to how much their population searches in Google for the next year, relative to how much they search for the previous year.\n",
    "\n",
    "This ratio is called the Future Orientation Index (FOI). So for example for the year 2017 the FOI can be calculated as: FOI = number of searches for the term “2018” / number of searches for the term “2016”.\n",
    "\n",
    "You will do the following tasks:\n",
    "1. Aquire World Bank Data\n",
    "2. Calculate the Future Orientation Index in Google Trends\n",
    "3. Test the correlation between GDP and FOI"
   ]
  },
  {
   "cell_type": "markdown",
   "id": "59e59b4b",
   "metadata": {},
   "source": [
    "### Install requirements\n",
    "\n",
    "The following cell contains all the necessary dependencies needed for this task. If you run the cell everything will be installed.  \n",
    "* [`wbgapi`](https://github.com/tgherzog/wbgapi) is a Python package which provides modern, pythonic access to the World Bank's data API. [Here](https://github.com/tgherzog/wbgapi) is the documentation of `wbgapi`.\n",
    "* [`pandas`](https://pandas.pydata.org/docs/index.html) is a Python package for creating and working with tabular data. [Here](https://pandas.pydata.org/docs/reference/index.html) is the documentation of `pandas`.\n",
    "* [`matplotlib`](https://matplotlib.org/) is a Python package for creating plots. [Here](https://matplotlib.org/stable/api/index.html) is the documentation of `matplotlib`.\n",
    "* [`scipy`](https://scipy.org/) is a Python package with different algorithms for scientific computing. [Here](https://docs.scipy.org/doc/scipy/reference/index.html#scipy-api) is the documentation of `scipy`."
   ]
  },
  {
   "cell_type": "code",
   "execution_count": 9,
   "id": "85b72588",
   "metadata": {},
   "outputs": [
    {
     "name": "stdout",
     "output_type": "stream",
     "text": [
      "Defaulting to user installation because normal site-packages is not writeable\n",
      "Requirement already satisfied: wbgapi in /home/ubuntu/.local/lib/python3.10/site-packages (1.0.12)\n",
      "Requirement already satisfied: PyYAML in /usr/lib/python3/dist-packages (from wbgapi) (5.4.1)\n",
      "Requirement already satisfied: tabulate in /home/ubuntu/.local/lib/python3.10/site-packages (from wbgapi) (0.9.0)\n",
      "Requirement already satisfied: requests in /usr/lib/python3/dist-packages (from wbgapi) (2.25.1)\n",
      "Defaulting to user installation because normal site-packages is not writeable\n",
      "Requirement already satisfied: pandas in /home/ubuntu/.local/lib/python3.10/site-packages (1.5.2)\n",
      "Requirement already satisfied: pytz>=2020.1 in /usr/lib/python3/dist-packages (from pandas) (2022.1)\n",
      "Requirement already satisfied: python-dateutil>=2.8.1 in /home/ubuntu/.local/lib/python3.10/site-packages (from pandas) (2.8.2)\n",
      "Requirement already satisfied: numpy>=1.21.0 in /home/ubuntu/.local/lib/python3.10/site-packages (from pandas) (1.23.5)\n",
      "Requirement already satisfied: six>=1.5 in /usr/lib/python3/dist-packages (from python-dateutil>=2.8.1->pandas) (1.16.0)\n",
      "Defaulting to user installation because normal site-packages is not writeable\n",
      "Requirement already satisfied: matplotlib in /home/ubuntu/.local/lib/python3.10/site-packages (3.6.2)\n",
      "Requirement already satisfied: numpy>=1.19 in /home/ubuntu/.local/lib/python3.10/site-packages (from matplotlib) (1.23.5)\n",
      "Requirement already satisfied: packaging>=20.0 in /home/ubuntu/.local/lib/python3.10/site-packages (from matplotlib) (21.3)\n",
      "Requirement already satisfied: contourpy>=1.0.1 in /home/ubuntu/.local/lib/python3.10/site-packages (from matplotlib) (1.0.6)\n",
      "Requirement already satisfied: cycler>=0.10 in /home/ubuntu/.local/lib/python3.10/site-packages (from matplotlib) (0.11.0)\n",
      "Requirement already satisfied: pyparsing>=2.2.1 in /usr/lib/python3/dist-packages (from matplotlib) (2.4.7)\n",
      "Requirement already satisfied: kiwisolver>=1.0.1 in /home/ubuntu/.local/lib/python3.10/site-packages (from matplotlib) (1.4.4)\n",
      "Requirement already satisfied: pillow>=6.2.0 in /home/ubuntu/.local/lib/python3.10/site-packages (from matplotlib) (9.3.0)\n",
      "Requirement already satisfied: fonttools>=4.22.0 in /home/ubuntu/.local/lib/python3.10/site-packages (from matplotlib) (4.38.0)\n",
      "Requirement already satisfied: python-dateutil>=2.7 in /home/ubuntu/.local/lib/python3.10/site-packages (from matplotlib) (2.8.2)\n",
      "Requirement already satisfied: six>=1.5 in /usr/lib/python3/dist-packages (from python-dateutil>=2.7->matplotlib) (1.16.0)\n",
      "Defaulting to user installation because normal site-packages is not writeable\n",
      "Requirement already satisfied: scipy in /home/ubuntu/.local/lib/python3.10/site-packages (1.10.0)\n",
      "Requirement already satisfied: numpy<1.27.0,>=1.19.5 in /home/ubuntu/.local/lib/python3.10/site-packages (from scipy) (1.23.5)\n",
      "Defaulting to user installation because normal site-packages is not writeable\n",
      "Requirement already satisfied: pycountry in /home/ubuntu/.local/lib/python3.10/site-packages (22.3.5)\n",
      "Requirement already satisfied: setuptools in /usr/lib/python3/dist-packages (from pycountry) (59.6.0)\n"
     ]
    }
   ],
   "source": [
    "! pip install wbgapi\n",
    "! pip install pandas\n",
    "! pip install matplotlib\n",
    "! pip install scipy\n",
    "! pip install pycountry"
   ]
  },
  {
   "cell_type": "markdown",
   "id": "a4b6e3f8",
   "metadata": {},
   "source": [
    "### Exercise 1: World Bank Data *(3 points)*\n",
    "#### 1.1 Download WDI data\n",
    "\n",
    "From the WDI we need three indicators:\n",
    "* Gross Domestic Product (GDP) per capita corrected by the Purchase Power Parity (PPP in current or 2005 international $, `\"NY.GDP.PCAP.PP.KD\"`)\n",
    "* The amount of Internet users (per 100 people, `\"IT.NET.USER.ZS\"`\n",
    "* The total population (described as as \"Population, Total\", `\"SP.POP.TOTL\"`)\n",
    "\n",
    "In the following code chunk, download all data (including extras) for all countries in year 2014 and save it as a pandas data frame. See [here](https://github.com/tgherzog/wbgapi#accessing-data) how to use the `data` subpackage of `wbgapi`.\n",
    "\n",
    "Hint: To remove aggregates (economic regions defined by the World Bank) and include only countries, use `skipAggs=True`."
   ]
  },
  {
   "cell_type": "code",
   "execution_count": 4,
   "id": "75c9b324",
   "metadata": {},
   "outputs": [],
   "source": [
    "import wbgapi as wb\n",
    "WDIdf = wb.data.DataFrame(['NY.GDP.PCAP.PP.KD', 'IT.NET.USER.ZS', \"SP.POP.TOTL\"], time = range(2014, 2015, 1), skipAggs = True, labels = True)"
   ]
  },
  {
   "cell_type": "markdown",
   "id": "4e35e271",
   "metadata": {},
   "source": [
    "Now drop any row that has `NaN` for this you can use `pandas` [`dropna`](https://pandas.pydata.org/docs/reference/api/pandas.DataFrame.dropna.html) method."
   ]
  },
  {
   "cell_type": "code",
   "execution_count": 5,
   "id": "77b5278e",
   "metadata": {},
   "outputs": [
    {
     "data": {
      "text/html": [
       "<div>\n",
       "<style scoped>\n",
       "    .dataframe tbody tr th:only-of-type {\n",
       "        vertical-align: middle;\n",
       "    }\n",
       "\n",
       "    .dataframe tbody tr th {\n",
       "        vertical-align: top;\n",
       "    }\n",
       "\n",
       "    .dataframe thead th {\n",
       "        text-align: right;\n",
       "    }\n",
       "</style>\n",
       "<table border=\"1\" class=\"dataframe\">\n",
       "  <thead>\n",
       "    <tr style=\"text-align: right;\">\n",
       "      <th></th>\n",
       "      <th>Country</th>\n",
       "      <th>IT.NET.USER.ZS</th>\n",
       "      <th>NY.GDP.PCAP.PP.KD</th>\n",
       "      <th>SP.POP.TOTL</th>\n",
       "    </tr>\n",
       "    <tr>\n",
       "      <th>economy</th>\n",
       "      <th></th>\n",
       "      <th></th>\n",
       "      <th></th>\n",
       "      <th></th>\n",
       "    </tr>\n",
       "  </thead>\n",
       "  <tbody>\n",
       "    <tr>\n",
       "      <th>ZWE</th>\n",
       "      <td>Zimbabwe</td>\n",
       "      <td>16.36474</td>\n",
       "      <td>2316.954536</td>\n",
       "      <td>13855753.0</td>\n",
       "    </tr>\n",
       "    <tr>\n",
       "      <th>ZMB</th>\n",
       "      <td>Zambia</td>\n",
       "      <td>6.50000</td>\n",
       "      <td>3375.941270</td>\n",
       "      <td>15737793.0</td>\n",
       "    </tr>\n",
       "    <tr>\n",
       "      <th>PSE</th>\n",
       "      <td>West Bank and Gaza</td>\n",
       "      <td>53.67000</td>\n",
       "      <td>5967.073437</td>\n",
       "      <td>4173398.0</td>\n",
       "    </tr>\n",
       "    <tr>\n",
       "      <th>VNM</th>\n",
       "      <td>Vietnam</td>\n",
       "      <td>41.00000</td>\n",
       "      <td>7641.909252</td>\n",
       "      <td>91235504.0</td>\n",
       "    </tr>\n",
       "    <tr>\n",
       "      <th>VUT</th>\n",
       "      <td>Vanuatu</td>\n",
       "      <td>18.80000</td>\n",
       "      <td>2917.627300</td>\n",
       "      <td>269927.0</td>\n",
       "    </tr>\n",
       "    <tr>\n",
       "      <th>...</th>\n",
       "      <td>...</td>\n",
       "      <td>...</td>\n",
       "      <td>...</td>\n",
       "      <td>...</td>\n",
       "    </tr>\n",
       "    <tr>\n",
       "      <th>ATG</th>\n",
       "      <td>Antigua and Barbuda</td>\n",
       "      <td>67.78000</td>\n",
       "      <td>18779.480712</td>\n",
       "      <td>89236.0</td>\n",
       "    </tr>\n",
       "    <tr>\n",
       "      <th>AGO</th>\n",
       "      <td>Angola</td>\n",
       "      <td>21.40000</td>\n",
       "      <td>8183.678371</td>\n",
       "      <td>27128337.0</td>\n",
       "    </tr>\n",
       "    <tr>\n",
       "      <th>DZA</th>\n",
       "      <td>Algeria</td>\n",
       "      <td>29.50000</td>\n",
       "      <td>11561.259795</td>\n",
       "      <td>38760168.0</td>\n",
       "    </tr>\n",
       "    <tr>\n",
       "      <th>ALB</th>\n",
       "      <td>Albania</td>\n",
       "      <td>54.30000</td>\n",
       "      <td>11586.855263</td>\n",
       "      <td>2889104.0</td>\n",
       "    </tr>\n",
       "    <tr>\n",
       "      <th>AFG</th>\n",
       "      <td>Afghanistan</td>\n",
       "      <td>7.00000</td>\n",
       "      <td>2144.449634</td>\n",
       "      <td>32716210.0</td>\n",
       "    </tr>\n",
       "  </tbody>\n",
       "</table>\n",
       "<p>186 rows × 4 columns</p>\n",
       "</div>"
      ],
      "text/plain": [
       "                     Country  IT.NET.USER.ZS  NY.GDP.PCAP.PP.KD  SP.POP.TOTL\n",
       "economy                                                                     \n",
       "ZWE                 Zimbabwe        16.36474        2316.954536   13855753.0\n",
       "ZMB                   Zambia         6.50000        3375.941270   15737793.0\n",
       "PSE       West Bank and Gaza        53.67000        5967.073437    4173398.0\n",
       "VNM                  Vietnam        41.00000        7641.909252   91235504.0\n",
       "VUT                  Vanuatu        18.80000        2917.627300     269927.0\n",
       "...                      ...             ...                ...          ...\n",
       "ATG      Antigua and Barbuda        67.78000       18779.480712      89236.0\n",
       "AGO                   Angola        21.40000        8183.678371   27128337.0\n",
       "DZA                  Algeria        29.50000       11561.259795   38760168.0\n",
       "ALB                  Albania        54.30000       11586.855263    2889104.0\n",
       "AFG              Afghanistan         7.00000        2144.449634   32716210.0\n",
       "\n",
       "[186 rows x 4 columns]"
      ]
     },
     "execution_count": 5,
     "metadata": {},
     "output_type": "execute_result"
    }
   ],
   "source": [
    "import pandas as pd\n",
    "WDIdf.dropna()"
   ]
  },
  {
   "cell_type": "markdown",
   "id": "4854dd95",
   "metadata": {},
   "source": [
    "Next only keep rows where there are at least 5 Million internet users. Keep in Mind that the Internet Users are per 100 people, so don't forget to take the population into account.\n",
    "\n",
    "For example in the dataset Austria has 80.995825 internet users per 100 people, while 8546356 people living in Austria. This means Austria has 6922191.55 internet users in total. The calculation for that is as follows:\n",
    "<br>\n",
    "\n",
    "$$\n",
    "\\begin{align}\n",
    "internet\\_users = population \\cdot \\frac{internet\\_user\\_per\\_100}{100}\n",
    "\\end{align}\n",
    "$$\n"
   ]
  },
  {
   "cell_type": "code",
   "execution_count": 6,
   "id": "6ffe01e2",
   "metadata": {},
   "outputs": [
    {
     "data": {
      "text/html": [
       "<div>\n",
       "<style scoped>\n",
       "    .dataframe tbody tr th:only-of-type {\n",
       "        vertical-align: middle;\n",
       "    }\n",
       "\n",
       "    .dataframe tbody tr th {\n",
       "        vertical-align: top;\n",
       "    }\n",
       "\n",
       "    .dataframe thead th {\n",
       "        text-align: right;\n",
       "    }\n",
       "</style>\n",
       "<table border=\"1\" class=\"dataframe\">\n",
       "  <thead>\n",
       "    <tr style=\"text-align: right;\">\n",
       "      <th></th>\n",
       "      <th>Country</th>\n",
       "      <th>int_user_100</th>\n",
       "      <th>gdp_cap_pp</th>\n",
       "      <th>tot_pop</th>\n",
       "    </tr>\n",
       "    <tr>\n",
       "      <th>economy</th>\n",
       "      <th></th>\n",
       "      <th></th>\n",
       "      <th></th>\n",
       "      <th></th>\n",
       "    </tr>\n",
       "  </thead>\n",
       "  <tbody>\n",
       "    <tr>\n",
       "      <th>VNM</th>\n",
       "      <td>Vietnam</td>\n",
       "      <td>41.000000</td>\n",
       "      <td>7641.909252</td>\n",
       "      <td>91235504.0</td>\n",
       "    </tr>\n",
       "    <tr>\n",
       "      <th>UZB</th>\n",
       "      <td>Uzbekistan</td>\n",
       "      <td>35.500000</td>\n",
       "      <td>6075.192224</td>\n",
       "      <td>30757700.0</td>\n",
       "    </tr>\n",
       "    <tr>\n",
       "      <th>USA</th>\n",
       "      <td>United States</td>\n",
       "      <td>73.000000</td>\n",
       "      <td>57308.318417</td>\n",
       "      <td>318386329.0</td>\n",
       "    </tr>\n",
       "    <tr>\n",
       "      <th>GBR</th>\n",
       "      <td>United Kingdom</td>\n",
       "      <td>91.610000</td>\n",
       "      <td>44247.029670</td>\n",
       "      <td>64602298.0</td>\n",
       "    </tr>\n",
       "    <tr>\n",
       "      <th>ARE</th>\n",
       "      <td>United Arab Emirates</td>\n",
       "      <td>90.400000</td>\n",
       "      <td>64334.091552</td>\n",
       "      <td>8835951.0</td>\n",
       "    </tr>\n",
       "    <tr>\n",
       "      <th>...</th>\n",
       "      <td>...</td>\n",
       "      <td>...</td>\n",
       "      <td>...</td>\n",
       "      <td>...</td>\n",
       "    </tr>\n",
       "    <tr>\n",
       "      <th>AUT</th>\n",
       "      <td>Austria</td>\n",
       "      <td>80.995825</td>\n",
       "      <td>52932.900112</td>\n",
       "      <td>8546356.0</td>\n",
       "    </tr>\n",
       "    <tr>\n",
       "      <th>AUS</th>\n",
       "      <td>Australia</td>\n",
       "      <td>84.000000</td>\n",
       "      <td>47240.274464</td>\n",
       "      <td>23475686.0</td>\n",
       "    </tr>\n",
       "    <tr>\n",
       "      <th>ARG</th>\n",
       "      <td>Argentina</td>\n",
       "      <td>64.700000</td>\n",
       "      <td>23550.099060</td>\n",
       "      <td>42669500.0</td>\n",
       "    </tr>\n",
       "    <tr>\n",
       "      <th>AGO</th>\n",
       "      <td>Angola</td>\n",
       "      <td>21.400000</td>\n",
       "      <td>8183.678371</td>\n",
       "      <td>27128337.0</td>\n",
       "    </tr>\n",
       "    <tr>\n",
       "      <th>DZA</th>\n",
       "      <td>Algeria</td>\n",
       "      <td>29.500000</td>\n",
       "      <td>11561.259795</td>\n",
       "      <td>38760168.0</td>\n",
       "    </tr>\n",
       "  </tbody>\n",
       "</table>\n",
       "<p>61 rows × 4 columns</p>\n",
       "</div>"
      ],
      "text/plain": [
       "                      Country  int_user_100    gdp_cap_pp      tot_pop\n",
       "economy                                                               \n",
       "VNM                   Vietnam     41.000000   7641.909252   91235504.0\n",
       "UZB                Uzbekistan     35.500000   6075.192224   30757700.0\n",
       "USA             United States     73.000000  57308.318417  318386329.0\n",
       "GBR            United Kingdom     91.610000  44247.029670   64602298.0\n",
       "ARE      United Arab Emirates     90.400000  64334.091552    8835951.0\n",
       "...                       ...           ...           ...          ...\n",
       "AUT                   Austria     80.995825  52932.900112    8546356.0\n",
       "AUS                 Australia     84.000000  47240.274464   23475686.0\n",
       "ARG                 Argentina     64.700000  23550.099060   42669500.0\n",
       "AGO                    Angola     21.400000   8183.678371   27128337.0\n",
       "DZA                   Algeria     29.500000  11561.259795   38760168.0\n",
       "\n",
       "[61 rows x 4 columns]"
      ]
     },
     "execution_count": 6,
     "metadata": {},
     "output_type": "execute_result"
    }
   ],
   "source": [
    "#rename the columns for convenience \n",
    "WDIdf.rename(columns={'SP.POP.TOTL': 'tot_pop', 'IT.NET.USER.ZS': 'int_user_100', 'NY.GDP.PCAP.PP.KD' : 'gdp_cap_pp'}, inplace=True)\n",
    "#dropna added as it didn't get rid of all of them the first time for whatever reason, filtered for 5M internet users\n",
    "reduced_WDIdf = WDIdf[(WDIdf.tot_pop * WDIdf.int_user_100 / 100) > 5000000].dropna()\n",
    "reduced_WDIdf"
   ]
  },
  {
   "cell_type": "markdown",
   "id": "d4f8562a",
   "metadata": {},
   "source": [
    "### Exercise 2: The Future Orientation Index in Google Trends *(3 points)*\n",
    "#### 2.1 Download data from Google Trends\n",
    "\n",
    "You can download the data from Google Trends following these steps:\n",
    "\n",
    "1) Log out from your google account or set its language to English\n",
    "\n",
    "2) Go to trends.google.com and search for 2013 \n",
    "\n",
    "3) Add 2015 as a search term\n",
    "\n",
    "4) Select custom time rage: full year: 2014\n",
    "\n",
    "5) Set the region to “Worldwide”. You can also try with this link (it links to the google trends page with all settings from above applied): https://trends.google.com/trends/explore?date=2014-01-01%202014-12-31&q=2013,2015\n",
    "\n",
    "6) Go to the map at “Compared breakdown by region” and tick on “include low search volume regions”\n",
    "\n",
    "7) On the top right menu click the download button to get a geoMap.csv file\n",
    "\n",
    "Load the .csv file in a pandas data frame. Notice in the file the first 3 Lines are actually only information (while the third is the header). You can skip these lines by using `skiprows=3` in `pd.read_csv`. Set the headers to `\"Country\", \"G2013\", \"G2015\"`, this can be done by the keyword argument `names` in `pd.read_csv`.\n",
    "\n",
    "Now remove again all rows containing `NaN`.\n",
    "\n",
    "All the percentage data is saved as a string containing the `%` symbol. You can remove this with `pandas` [`str.replace`](https://pandas.pydata.org/docs/reference/api/pandas.Series.str.replace.html) method and save them as integer with `pandas` [`astype`](https://pandas.pydata.org/docs/reference/api/pandas.DataFrame.astype.html) method. Do this for column `G2013` and `G2015`.\n"
   ]
  },
  {
   "cell_type": "code",
   "execution_count": 7,
   "id": "21d49e0b",
   "metadata": {},
   "outputs": [],
   "source": [
    "# read csv, skipping the first three rows, renaming the columns accordingly, drop NA values, remove percentage signs, and change the percentage columns to integers\n",
    "g_trends = ((pd.read_csv(\"geoMap.csv\", skiprows = 3, names = [\"Country\", \"G2013\", \"G2015\"])).dropna()).replace(\"%\", \"\", regex = True).astype({\"G2013\":\"int\", \"G2015\":\"int\"})\n"
   ]
  },
  {
   "cell_type": "code",
   "execution_count": null,
   "id": "125442ff",
   "metadata": {},
   "outputs": [],
   "source": []
  },
  {
   "cell_type": "markdown",
   "id": "2afa666c",
   "metadata": {},
   "source": [
    "#### 2.2 Calculate the Future Orientation Index\n",
    "\n",
    "In the following code chunk, make a new column in the Google Trends dataframe with the Future Orientation Index, which is the ratio between the search volume for 2015 and 2013 in 2014 for each country"
   ]
  },
  {
   "cell_type": "code",
   "execution_count": 8,
   "id": "5441e4cb",
   "metadata": {},
   "outputs": [],
   "source": [
    "g_trends[\"FOI\"] = g_trends.G2015 / g_trends.G2013"
   ]
  },
  {
   "cell_type": "markdown",
   "id": "f3322c9c",
   "metadata": {},
   "source": [
    "#### 2.3 Merge with World Bank data\n",
    "\n",
    "Merge the WDI and google trends data frames, using the name of the country. For this you can use `pandas` [`merge`](https://pandas.pydata.org/docs/reference/api/pandas.DataFrame.merge.html) method."
   ]
  },
  {
   "cell_type": "code",
   "execution_count": 9,
   "id": "67058308",
   "metadata": {},
   "outputs": [],
   "source": [
    "# renaming a few countries so they merge correctly \n",
    "reduced_WDIdf = reduced_WDIdf.replace([\"Turkiye\", \"Russian Federation\", \"Korea, Rep.\", \"Iran, Islamic Rep.\", \"Hong Kong SAR, China\", \"Egypt, Arab Rep.\"], [\"Türkiye\", \"Russia\", \"South Korea\", \"Iran\", \"Hong Kong\", \"Egypt\"])\n",
    "combined_df = reduced_WDIdf.merge(g_trends, on = \"Country\")"
   ]
  },
  {
   "cell_type": "markdown",
   "id": "fcc137f0",
   "metadata": {},
   "source": [
    "### Exercise: 3 Testing the correlation between GDP and FOI *(2 points)*\n",
    "#### 3.1 Visualize FOI vs GDP\n",
    "\n",
    "Now that you have the FOI index, GPD per capita and PPP value for each country, you can make a scatter plot of FOI vs GDP.\n",
    "\n",
    "For this you can use the [`scatter`](https://matplotlib.org/stable/api/_as_gen/matplotlib.pyplot.scatter.html) method of `matplotlib`."
   ]
  },
  {
   "cell_type": "code",
   "execution_count": 13,
   "id": "67fdd05e",
   "metadata": {},
   "outputs": [
    {
     "data": {
      "image/png": "[encoded data removed]",
      "text/plain": [
       "<Figure size 640x480 with 1 Axes>"
      ]
     },
     "metadata": {},
     "output_type": "display_data"
    }
   ],
   "source": [
    "import matplotlib.pyplot as plt\n",
    "plt.scatter(combined_df[\"FOI\"], combined_df[\"gdp_cap_pp\"])\n",
    "plt.ylim(0, 70000)\n",
    "plt.suptitle(\"Future Orientation Index vs GDP per Capita\", fontsize = 18)\n",
    "plt.title(\"For countries with at least 5M internet users\", fontsize = 10)\n",
    "plt.ylabel(\"GDP per Capita (in $, corrected with PP)\")\n",
    "plt.xlabel(\"Future Orientation Index\")\n",
    "plt.grid(color = \"gray\", linestyle= \"--\", linewidth= 0.5)\n",
    "plt.show()"
   ]
  },
  {
   "cell_type": "markdown",
   "id": "0f404be5",
   "metadata": {},
   "source": [
    "#### 3.2 Measure Pearson’s correlation\n",
    "\n",
    "In the following chunk, calculate Pearson’s correlation coefficient between GDP and FOI.\n",
    "\n",
    "For this you can use the [`pearsonr`](https://docs.scipy.org/doc/scipy/reference/generated/scipy.stats.pearsonr.html) method of `scipy`."
   ]
  },
  {
   "cell_type": "code",
   "execution_count": 52,
   "id": "b18b0a3b",
   "metadata": {},
   "outputs": [
    {
     "name": "stdout",
     "output_type": "stream",
     "text": [
      "The Peason's correlation between GDP and FOI is 0.654 with a p-value of 0.0. This indicates a positive correlation between the GDP and FOI, therefore one would expect countries that look ahead to the future more are more successful, however since there is no causal relationship being explored here then the conclusion that economies that are doing well give people the opportunity to look ahead more is equally as valid, or maybe even a combination of the two. The p-value is significant at the 95% confidence level therefore giving reasonable plausability that this is not a spurious correlation, however the sample size of around 60 is not optimal for a Pearson correlation, generally needing at least 100 or so data points to be more accurate in its predictive power. Nevertheless, this is an interesting relationship and could be further studied, perhaps with a different method of measuring the Future Orientaion Index, although the novelty and ingenuity of this method is amazing.\n"
     ]
    }
   ],
   "source": [
    "import scipy\n",
    "print(\"The Peason's correlation between GDP and FOI is \" + str(round(float(scipy.stats.pearsonr(combined_df[\"gpd_cap_pp\"], combined_df[\"FOI\"])[:][0]), 3)) + \" with a p-value of \" + str(round(float(scipy.stats.pearsonr(combined_df[\"gpd_cap_pp\"], combined_df[\"FOI\"])[:][1]), 3)) + \". This indicates a positive correlation between the GDP and FOI, therefore one would expect countries that look ahead to the future more are more successful, however since there is no causal relationship being explored here then the conclusion that economies that are doing well give people the opportunity to look ahead more is equally as valid, or maybe even a combination of the two. The p-value is significant at the 95% confidence level therefore giving reasonable plausability that this is not a spurious correlation, however the sample size of around 60 is not optimal for a Pearson correlation, generally needing at least 100 or so data points to be more accurate in its predictive power. Nevertheless, this is an interesting relationship and could be further studied, perhaps with a different method of measuring the Future Orientaion Index, although the novelty and ingenuity of this method is amazing.\" )\n"
   ]
  },
  {
   "cell_type": "markdown",
   "id": "657dc825",
   "metadata": {},
   "source": [
    "### To learn more\n",
    "#### Check robustness\n",
    "* What result do you get if you use other years? What if you choose one of the earliest years in Google trends?\n",
    "* How do results change if you use a different threshod instead of 5 Million Internet users?\n",
    "    \n",
    "#### Test other hypotheses\n",
    "* Is future orientation generating wealth? Or is wealth enabling to look more to the future?\n",
    "* Is the FOI really measuring orientation to the future? Could it be something else?"
   ]
  },
  {
   "cell_type": "markdown",
   "id": "fbe67d1f",
   "metadata": {},
   "source": [
    "## Part 2\n",
    "## Using Google Trends data to model Flu Trends"
   ]
  },
  {
   "cell_type": "markdown",
   "id": "b307d8a0",
   "metadata": {},
   "source": [
    "### Install requirements. "
   ]
  },
  {
   "cell_type": "code",
   "execution_count": 12,
   "id": "c98ada14",
   "metadata": {},
   "outputs": [
    {
     "name": "stdout",
     "output_type": "stream",
     "text": [
      "Defaulting to user installation because normal site-packages is not writeable\n",
      "Requirement already satisfied: pytrends in /home/ubuntu/.local/lib/python3.10/site-packages (4.9.2)\n",
      "Requirement already satisfied: pandas>=0.25 in /home/ubuntu/.local/lib/python3.10/site-packages (from pytrends) (1.5.2)\n",
      "Requirement already satisfied: lxml in /home/ubuntu/.local/lib/python3.10/site-packages (from pytrends) (4.9.2)\n",
      "Requirement already satisfied: requests>=2.0 in /usr/lib/python3/dist-packages (from pytrends) (2.25.1)\n",
      "Requirement already satisfied: numpy>=1.21.0 in /home/ubuntu/.local/lib/python3.10/site-packages (from pandas>=0.25->pytrends) (1.23.5)\n",
      "Requirement already satisfied: pytz>=2020.1 in /usr/lib/python3/dist-packages (from pandas>=0.25->pytrends) (2022.1)\n",
      "Requirement already satisfied: python-dateutil>=2.8.1 in /home/ubuntu/.local/lib/python3.10/site-packages (from pandas>=0.25->pytrends) (2.8.2)\n",
      "Requirement already satisfied: six>=1.5 in /usr/lib/python3/dist-packages (from python-dateutil>=2.8.1->pandas>=0.25->pytrends) (1.16.0)\n",
      "Defaulting to user installation because normal site-packages is not writeable\n",
      "Requirement already satisfied: requests in /usr/lib/python3/dist-packages (2.25.1)\n",
      "Defaulting to user installation because normal site-packages is not writeable\n",
      "Requirement already satisfied: statsmodels in /home/ubuntu/.local/lib/python3.10/site-packages (0.13.5)\n",
      "Requirement already satisfied: scipy>=1.3 in /home/ubuntu/.local/lib/python3.10/site-packages (from statsmodels) (1.10.0)\n",
      "Requirement already satisfied: patsy>=0.5.2 in /home/ubuntu/.local/lib/python3.10/site-packages (from statsmodels) (0.5.3)\n",
      "Requirement already satisfied: pandas>=0.25 in /home/ubuntu/.local/lib/python3.10/site-packages (from statsmodels) (1.5.2)\n",
      "Requirement already satisfied: numpy>=1.17 in /home/ubuntu/.local/lib/python3.10/site-packages (from statsmodels) (1.23.5)\n",
      "Requirement already satisfied: packaging>=21.3 in /home/ubuntu/.local/lib/python3.10/site-packages (from statsmodels) (21.3)\n",
      "Requirement already satisfied: pyparsing!=3.0.5,>=2.0.2 in /usr/lib/python3/dist-packages (from packaging>=21.3->statsmodels) (2.4.7)\n",
      "Requirement already satisfied: python-dateutil>=2.8.1 in /home/ubuntu/.local/lib/python3.10/site-packages (from pandas>=0.25->statsmodels) (2.8.2)\n",
      "Requirement already satisfied: pytz>=2020.1 in /usr/lib/python3/dist-packages (from pandas>=0.25->statsmodels) (2022.1)\n",
      "Requirement already satisfied: six in /usr/lib/python3/dist-packages (from patsy>=0.5.2->statsmodels) (1.16.0)\n"
     ]
    }
   ],
   "source": [
    "! pip install -U pytrends\n",
    "! pip install requests\n",
    "! pip install statsmodels"
   ]
  },
  {
   "cell_type": "markdown",
   "id": "4d6323cb",
   "metadata": {},
   "source": [
    "### Exercise 4 *(4 points)*\n",
    "Use the [pytrends module](https://pypi.org/project/pytrends/) to get weekly Google Trends data concerning the [Flu/Influenza](https://en.wikipedia.org/wiki/Influenza) virus from the beginning of 2014 until the end of 2018. \n",
    "<br>\n",
    "\n",
    "- Create an instance of the `TrendReq` class\n",
    "- Find the appropriate query term. The TrendReq class includes a method `suggestions`, which should help you in this task (the query term can look like e.g. `/m/03x_m3v`).\n",
    "- Specify the correct geographical region, the timeframe, and the key-word list. Use the `build_payload` method to store this information for future requests.\n",
    "- Use the `interest_over_time` method to get the data.\n",
    "<br><br>"
   ]
  },
  {
   "cell_type": "markdown",
   "id": "e196189c",
   "metadata": {},
   "source": [
    "***Hint:*** *the pytrends module currently has a bug. If you get a `TooManyRequestsError` despite following the documentation, try following the advice outlined [here](https://github.com/GeneralMills/pytrends/issues/573#issuecomment-1501897119) or [here](https://github.com/GeneralMills/pytrends/issues/561#issuecomment-1462899426) (both solve the issue).*"
   ]
  },
  {
   "cell_type": "code",
   "execution_count": 1,
   "id": "8c970856",
   "metadata": {},
   "outputs": [
    {
     "name": "stdout",
     "output_type": "stream",
     "text": [
      "[{'mid': '/m/0cycc', 'title': 'Influenza', 'type': 'Disease'}, {'mid': '/m/0292d3', 'title': 'Avian influenza', 'type': 'Disease'}, {'mid': '/m/057c6k', 'title': 'Swine influenza', 'type': 'Disease'}, {'mid': '/m/0416v7', 'title': 'Influenza vaccine', 'type': 'Vaccine'}, {'mid': '/g/11c5brjhms', 'title': 'The Book You Wish Your Parents Had Read: (And Your Children Will Be Glad That You Did)', 'type': 'Book by Philippa Perry'}]\n"
     ]
    },
    {
     "data": {
      "image/png": "[encoded data removed]",
      "text/plain": [
       "<Figure size 640x480 with 1 Axes>"
      ]
     },
     "metadata": {},
     "output_type": "display_data"
    }
   ],
   "source": [
    "from pytrends.request import TrendReq\n",
    "import requests\n",
    "import matplotlib.pyplot as plt\n",
    "\n",
    "\n",
    "session = requests.Session()\n",
    "session.get('https://trends.google.com')\n",
    "cookies_map = session.cookies.get_dict()\n",
    "nid_cookie = cookies_map['NID']\n",
    "\n",
    "pytrends = TrendReq(hl='en-US', tz=360, requests_args={'headers': {'Cookie': f'NID={nid_cookie}'}})\n",
    "print(pytrends.suggestions(\"Influenza\"))\n",
    "# the first one is Influenza, second Influenza vaccine, tried a couple other keywords but basically 0 and had different trends\n",
    "kw_list = [\"/m/0cycc\", \"/m/0416v7\"]\n",
    "pytrends.build_payload(kw_list = kw_list, timeframe='2014-01-01 2018-12-31', geo='US')\n",
    "g_flu = pytrends.interest_over_time()\n",
    "\n",
    "# looking at the data, the huge spike at 2018 is because of the really bad strain in that winter where lots of \n",
    "# people got infected and there was hysteria downside of Google Trends data, people very reactive or possibly want to see \n",
    "# the latest on the flu like during COVID when we were all looking at the numbers and restrictions everyday\n",
    "plt.plot(g_flu.index, g_flu[\"/m/0cycc\"], 'r')\n",
    "plt.plot(g_flu.index, g_flu[\"/m/0416v7\"], 'g')\n",
    "plt.show()\n",
    "\n",
    "\n",
    "g_flu['average_volume'] = (g_flu['/m/0416v7'] + g_flu['/m/0cycc']) / 2\n",
    "g_flu[\"total_volume\"] = g_flu['/m/0416v7'] + g_flu['/m/0cycc']"
   ]
  },
  {
   "cell_type": "markdown",
   "id": "9fc1dc8e",
   "metadata": {},
   "source": [
    "### Exercise 5 *(2 points)*\n",
    "\n",
    "In the `a01` folder you will find a file named `ILINet.csv`, which contains data regarding the occurance of Influenza like Illnesses in the US. You can also find the data and the corresponding [documentation](https://gis.cdc.gov/grasp/fluview/FluViewPhase2QuickReferenceGuide.pdf) on the CDC's [FluView interactive dashboard](https://gis.cdc.gov/grasp/fluview/fluportaldashboard.html).\n",
    "<br>\n",
    "- Read the csv file, and store it as a [pandas](https://pypi.org/project/pandas/) dataframe. You might need to use the `skiprows` argument of the `read_csv` method to be able to load the data correctly.\n",
    "- Select the columns named `YEAR`, `WEEK`, and `% WEIGHTED ILI` which will be needed for our analysis. Additionally, drop the rows which store observations from before 2014, or after 2018."
   ]
  },
  {
   "cell_type": "code",
   "execution_count": 12,
   "id": "9ccc2b4e",
   "metadata": {},
   "outputs": [
    {
     "name": "stdout",
     "output_type": "stream",
     "text": [
      "            YEAR  WEEK  % WEIGHTED ILI\n",
      "DATE                                  \n",
      "2014-01-05  2014     1         4.28195\n",
      "2014-01-12  2014     2         3.56288\n",
      "2014-01-19  2014     3         3.36378\n",
      "2014-01-26  2014     4         3.39659\n",
      "2014-02-02  2014     5         3.11922\n",
      "...          ...   ...             ...\n",
      "2018-12-02  2018    48         2.14883\n",
      "2018-12-09  2018    49         2.25531\n",
      "2018-12-16  2018    50         2.64571\n",
      "2018-12-23  2018    51         3.14075\n",
      "2018-12-30  2018    52         3.97127\n",
      "\n",
      "[261 rows x 3 columns]\n"
     ]
    }
   ],
   "source": [
    "import pandas as pd\n",
    "ilinet_df = pd.read_csv(\"ILINet.csv\", skiprows=1)\n",
    "sel_ilinet_df = ilinet_df.loc[(ilinet_df[\"YEAR\"] > 2013) & (ilinet_df[\"YEAR\"] < 2019), [\"YEAR\", \"WEEK\", \"% WEIGHTED ILI\"]].reset_index(drop=True)\n",
    "\n",
    "# the dates were wrong, as there were only 52 weeks in 2014, not 53, \n",
    "# so the one week was added to 2015 which did have 53 weeks and all other weeks in 2015 were shifted one\n",
    "# before I decided to copy the index of the other dataframe\n",
    "# sel_ilinet_df.loc[sel_ilinet_df[\"YEAR\"] == 2015, 'WEEK'] = sel_ilinet_df[\"WEEK\"] + 1\n",
    "# sel_ilinet_df.loc[52, \"YEAR\"] = 2015\n",
    "# sel_ilinet_df.loc[52, \"WEEK\"] = 1\n",
    "\n",
    "sel_ilinet_df[\"DATE\"] = g_flu.index\n",
    "sel_ilinet_df = sel_ilinet_df.set_index('DATE')"
   ]
  },
  {
   "cell_type": "markdown",
   "id": "0e08a2ca",
   "metadata": {},
   "source": [
    "### Exercise 6 *(6 points)*\n",
    "\n",
    "Next, we will use the [statsmodels](https://www.statsmodels.org/stable/index.html) module to build some models which can predict Flu infections. \n",
    "<br>\n",
    "- Create an [autoregressive model](https://www.statsmodels.org/dev/generated/statsmodels.tsa.ar_model.AutoReg.html) using `% WEIGHTED ILI` as a dependent variable and it's [lagged](https://ibf.org/knowledge/glossary/lagged-dependent-variable-156) versions as explanatory variables. You are free to use as many lags as possible to find the best fitting model, as measured by the [Bayesian Information Criterion (BIC)](https://en.wikipedia.org/wiki/Bayesian_information_criterion).\n",
    "- You may also add [trend](https://towardsdatascience.com/understanding-time-series-trend-addfd9d7764e) and/or [seasonal](https://towardsdatascience.com/seasonality-of-time-series-5b45b4809acd) variables to the model to improve your model's fit.\n",
    "- Create another model with `% WEIGHTED ILI` as a dependent variable and the Google Trend volume from the same week as the explanatory variable.\n",
    "- Last, create a model which uses both the lagged values of `% WEIGHTED ILI` and the Google Trends data (and/or its lagged versions) as explanatory variables to achieve the best fit. \n",
    "- Create a linechart showing the real values of `% WEIGHTED ILI` as well as the values predicted by all three models. Discuss your results."
   ]
  },
  {
   "cell_type": "code",
   "execution_count": 19,
   "id": "62d1e565",
   "metadata": {},
   "outputs": [
    {
     "name": "stderr",
     "output_type": "stream",
     "text": [
      "/home/ubuntu/.local/lib/python3.10/site-packages/statsmodels/tsa/base/tsa_model.py:471: ValueWarning: No frequency information was provided, so inferred frequency W-SUN will be used.\n",
      "  self._init_dates(dates, freq)\n"
     ]
    },
    {
     "ename": "IndexError",
     "evalue": "tuple index out of range",
     "output_type": "error",
     "traceback": [
      "\u001b[0;31m---------------------------------------------------------------------------\u001b[0m",
      "\u001b[0;31mIndexError\u001b[0m                                Traceback (most recent call last)",
      "Cell \u001b[0;32mIn[19], line 41\u001b[0m\n\u001b[1;32m     12\u001b[0m ilinet \u001b[39m=\u001b[39m sel_ilinet_df[\u001b[39m\"\u001b[39m\u001b[39m%\u001b[39m\u001b[39m WEIGHTED ILI\u001b[39m\u001b[39m\"\u001b[39m]\n\u001b[1;32m     13\u001b[0m \u001b[39m# # checking what the best lag is, used the log number of observations as cutoff but ever increasing max doesn't change result\u001b[39;00m\n\u001b[1;32m     14\u001b[0m \u001b[39m# optimal_lags_ili = ar_select_order(ilinet, int(math.log(len(ilinet))), seasonal = True, period = 52)\u001b[39;00m\n\u001b[1;32m     15\u001b[0m \u001b[39m# # AR(2) shown to be the best\u001b[39;00m\n\u001b[0;32m   (...)\u001b[0m\n\u001b[1;32m     39\u001b[0m \n\u001b[1;32m     40\u001b[0m \u001b[39m# this is my own best guess ARDL but it's probably not the best one there is cause I don't wanna try them all\u001b[39;00m\n\u001b[0;32m---> 41\u001b[0m combi_model \u001b[39m=\u001b[39m ARDL(ilinet, \u001b[39m3\u001b[39;49m, g_flu[\u001b[39m\"\u001b[39;49m\u001b[39mtotal_volume\u001b[39;49m\u001b[39m\"\u001b[39;49m], \u001b[39m2\u001b[39;49m)\n",
      "File \u001b[0;32m~/.local/lib/python3.10/site-packages/statsmodels/tsa/ardl/model.py:368\u001b[0m, in \u001b[0;36mARDL.__init__\u001b[0;34m(self, endog, lags, exog, order, trend, fixed, causal, seasonal, deterministic, hold_back, period, missing)\u001b[0m\n\u001b[1;32m    365\u001b[0m \u001b[39mself\u001b[39m\u001b[39m.\u001b[39m_names: Dict[\u001b[39mstr\u001b[39m, Sequence[\u001b[39mstr\u001b[39m]] \u001b[39m=\u001b[39m {}\n\u001b[1;32m    367\u001b[0m \u001b[39m# 1. Check and update order\u001b[39;00m\n\u001b[0;32m--> 368\u001b[0m \u001b[39mself\u001b[39m\u001b[39m.\u001b[39m_order \u001b[39m=\u001b[39m \u001b[39mself\u001b[39;49m\u001b[39m.\u001b[39;49m_check_order(order)\n\u001b[1;32m    369\u001b[0m \u001b[39m# 2. Construct Regressors\u001b[39;00m\n\u001b[1;32m    370\u001b[0m \u001b[39mself\u001b[39m\u001b[39m.\u001b[39m_y, \u001b[39mself\u001b[39m\u001b[39m.\u001b[39m_x \u001b[39m=\u001b[39m \u001b[39mself\u001b[39m\u001b[39m.\u001b[39m_construct_regressors(hold_back)\n",
      "File \u001b[0;32m~/.local/lib/python3.10/site-packages/statsmodels/tsa/ardl/model.py:445\u001b[0m, in \u001b[0;36mARDL._check_order\u001b[0;34m(self, order)\u001b[0m\n\u001b[1;32m    443\u001b[0m \u001b[39mdef\u001b[39;00m \u001b[39m_check_order\u001b[39m(\u001b[39mself\u001b[39m, order: _ARDLOrder) \u001b[39m-\u001b[39m\u001b[39m>\u001b[39m Dict[Hashable, List[\u001b[39mint\u001b[39m]]:\n\u001b[1;32m    444\u001b[0m \u001b[39m    \u001b[39m\u001b[39m\"\"\"Validate and standardize the model order\"\"\"\u001b[39;00m\n\u001b[0;32m--> 445\u001b[0m     \u001b[39mreturn\u001b[39;00m _format_order(\u001b[39mself\u001b[39;49m\u001b[39m.\u001b[39;49mdata\u001b[39m.\u001b[39;49morig_exog, order, \u001b[39mself\u001b[39;49m\u001b[39m.\u001b[39;49m_causal)\n",
      "File \u001b[0;32m~/.local/lib/python3.10/site-packages/statsmodels/tsa/ardl/model.py:135\u001b[0m, in \u001b[0;36m_format_order\u001b[0;34m(exog, order, causal)\u001b[0m\n\u001b[1;32m    133\u001b[0m \u001b[39mif\u001b[39;00m \u001b[39mnot\u001b[39;00m \u001b[39misinstance\u001b[39m(exog, pd\u001b[39m.\u001b[39mDataFrame):\n\u001b[1;32m    134\u001b[0m     exog \u001b[39m=\u001b[39m array_like(exog, \u001b[39m\"\u001b[39m\u001b[39mexog\u001b[39m\u001b[39m\"\u001b[39m, ndim\u001b[39m=\u001b[39m\u001b[39m2\u001b[39m, maxdim\u001b[39m=\u001b[39m\u001b[39m2\u001b[39m)\n\u001b[0;32m--> 135\u001b[0m     keys \u001b[39m=\u001b[39m \u001b[39mlist\u001b[39m(\u001b[39mrange\u001b[39m(exog\u001b[39m.\u001b[39;49mshape[\u001b[39m1\u001b[39;49m]))\n\u001b[1;32m    136\u001b[0m \u001b[39melse\u001b[39;00m:\n\u001b[1;32m    137\u001b[0m     keys \u001b[39m=\u001b[39m exog\u001b[39m.\u001b[39mcolumns\n",
      "\u001b[0;31mIndexError\u001b[0m: tuple index out of range"
     ]
    }
   ],
   "source": [
    "import statsmodels.api as sm\n",
    "import statsmodels.formula.api as smf\n",
    "from statsmodels.tsa.ar_model import AutoReg, ar_select_order\n",
    "from statsmodels.tsa.stattools import adfuller\n",
    "from statsmodels.tsa.api import ARDL\n",
    "from statsmodels.tsa.ardl import ardl_select_order\n",
    "import math\n",
    "import matplotlib.pyplot as plt\n",
    "\n",
    "# short name for series\n",
    "ilinet = sel_ilinet_df[\"% WEIGHTED ILI\"]\n",
    "# checking what the best lag is, used the log number of observations as cutoff but ever increasing max doesn't change result\n",
    "optimal_lags_ili = ar_select_order(ilinet, int(math.log(len(ilinet))), seasonal = True, period = 52)\n",
    "# AR(2) shown to be the best\n",
    "optimal_lags_ili.ar_lags\n",
    "# testing for unit root, if the null hypothesis is true then most likely unit root present then non-stationary meaning a time trend,\n",
    "# however this is rejected at 5% and even 1% therefore not a unit root and no time trend (thankfully)\n",
    "adfuller(ilinet, maxlag = 2, autolag = \"BIC\", regresults = True)\n",
    "# keep to 2 lags, add a seasonal component for weeks of the year\n",
    "result_ili = AutoReg(ilinet, lags=2, seasonal=True, period=52).fit()\n",
    "# show all info about model\n",
    "result_ili.summary()\n",
    "\n",
    "\n",
    "# not completely sure what the second model is supposed to be, I have definitely misunderstood the task\n",
    "# plt.plot(g_flu[\"total_volume\"], ilinet, 'r')\n",
    "# plt.plot(g_flu[\"average_volume\"], ilinet, 'g')\n",
    "# plt.show()\n",
    "\n",
    "\n",
    "\n",
    "# I chose to use an ARDL model to have the weighted ili as the endogenous variable and the total Google Trends \n",
    "# data as the exogenous variable. As above I wanted to find the best model with the tools given, but keep getting \n",
    "# a weird error that I've tried to fix for an hour. \n",
    "#sel_best_combi = ardl_select_order(ilinet, 7, g_flu[\"total_volume\"], 7, seasonal = True, period = 52, glob = True)\n",
    "#combi_res = sel_best_combi.model.fit()\n",
    "# this is what an ARDL model would look like if it worked\n",
    "#combi_model = ARDL(ilinet, 3, g_flu[\"total_volume\"], 2, seasonal=True, period = 52)\n",
    "\n",
    "\n",
    "\n"
   ]
  },
  {
   "cell_type": "markdown",
   "id": "63c881d5",
   "metadata": {},
   "source": [
    "### To learn more\n",
    "#### p-Hacking\n",
    "* Try downloading data for other queries to see if you can improve the fit of your model.\n",
    "    \n",
    "#### Prediction\n",
    "* Download the Google Trends data for 2019, and use your models to predict the values of `% WEIGHTED ILI`. Do the models make good predictions? Which model performs better?"
   ]
  }
 ],
 "metadata": {
  "kernelspec": {
   "display_name": "Python 3.10.6 64-bit",
   "language": "python",
   "name": "python3"
  },
  "language_info": {
   "codemirror_mode": {
    "name": "ipython",
    "version": 3
   },
   "file_extension": ".py",
   "mimetype": "text/x-python",
   "name": "python",
   "nbconvert_exporter": "python",
   "pygments_lexer": "ipython3",
   "version": "3.10.6"
  },
  "vscode": {
   "interpreter": {
    "hash": "e7370f93d1d0cde622a1f8e1c04877d8463912d04d973331ad4851f04de6915a"
   }
  }
 },
 "nbformat": 4,
 "nbformat_minor": 5
}
